{
 "cells": [
  {
   "cell_type": "markdown",
   "metadata": {},
   "source": [
    "## チューニング\n",
    "\n",
    "### Performance criteria\n",
    "\n",
    "Accuracy/Precision/Recal/F-valueなど\n",
    "\n",
    "### Cross validation\n",
    "\n",
    "訓練データとテストデータの組み合わせを変えて、アルゴリズムの平均的な性能を評価する。\n",
    "「たまたま、そのデータ分割方法で性能が出た」を防ぐ。\n",
    "\n",
    "### Grid search\n",
    "\n",
    "最適なハイパーパラメタを格子状に全探索する。"
   ]
  },
  {
   "cell_type": "code",
   "execution_count": null,
   "metadata": {},
   "outputs": [],
   "source": []
  }
 ],
 "metadata": {
  "language_info": {
   "name": "python"
  }
 },
 "nbformat": 4,
 "nbformat_minor": 2
}
