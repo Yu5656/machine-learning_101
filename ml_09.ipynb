{
 "cells": [
  {
   "cell_type": "markdown",
   "metadata": {},
   "source": [
    "## チューニング\n",
    "\n",
    "### Performance criteria\n",
    "\n",
    "Accuracy/Precision/Recal/F-valueなど\n",
    "\n",
    "### Cross validation\n",
    "\n",
    "訓練データとテストデータの組み合わせを変えて、アルゴリズムの平均的な性能を評価する。\n",
    "「たまたま、そのデータ分割方法で性能が出た」を防ぐ。\n",
    "\n",
    "### Grid search\n",
    "\n",
    "最適なハイパーパラメタを格子状に全探索する。\n",
    "\n",
    "### ファインチューニング\n",
    "\n",
    "学習済みのニューラルネットワークモデルに層を加え、特定分野のデータセットで学習を\n",
    "行うことで、その分野に特化したモデルを構築すること。特に、生成ＡＩでは、既存LLMに\n",
    "層を加えて、メインに特化したデータセットで学習する試みが見られる。\n",
    "\n",
    "なかなか評価が難しく、性能が良くなったというより、何らか上手くいくことをやったので、\n",
    "満足していることが多いらしい。プロンプトエンジニアリングやRAGで、十分な性能が出る、\n",
    "という報告もある。"
   ]
  },
  {
   "cell_type": "code",
   "execution_count": null,
   "metadata": {},
   "outputs": [],
   "source": []
  }
 ],
 "metadata": {
  "language_info": {
   "name": "python"
  }
 },
 "nbformat": 4,
 "nbformat_minor": 2
}
