{
 "cells": [
  {
   "cell_type": "markdown",
   "metadata": {},
   "source": [
    "## 自然言語処理\n",
    "\n",
    "### プロンプトエンジニアリング\n",
    "\n",
    "### Transformersモデル\n",
    "\n",
    "### LangChainを使ったパイプライン処理\n",
    "\n",
    "### Retrieval-Augumented Generation (RAG) \n",
    "\n",
    "### 言語検索（[ElasticSearch](https://www.elastic.co/elasticsearch)/[OpenSearch](https://opensearch.org/)）\n",
    "\n",
    "もともとオープンソースだったElasticSearchを、２０２１年１月に開発元Elastic社がライセンスを\n",
    "変えてしまい、自由に利用できなくなってしまった。それを受けてAmazonが、それまでの時点の\n",
    "ElasticSearchをフォークし、オープンソースライセンスのまま、プロジェクトを継続したのが\n",
    "OpenSearchとのこと。\n",
    "\n",
    "この２つの会社は敵対関係にあり、協業することはなさそう。オープンソースであることを臨むユーザが\n",
    "多いが、ElasticSearchの方が開発速度が早かったり、機能的にも性能的にも上であるらしい。\n",
    "\n",
    "\n",
    "##### [ベクトルデータベース](https://www.elastic.co/jp/what-is/vector-database)\n"
   ]
  },
  {
   "cell_type": "code",
   "execution_count": null,
   "metadata": {},
   "outputs": [],
   "source": []
  }
 ],
 "metadata": {
  "kernelspec": {
   "display_name": "Python 3",
   "language": "python",
   "name": "python3"
  },
  "language_info": {
   "name": "python",
   "version": "3.12.5"
  }
 },
 "nbformat": 4,
 "nbformat_minor": 2
}
