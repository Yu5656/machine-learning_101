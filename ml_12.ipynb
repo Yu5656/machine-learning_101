{
 "cells": [
  {
   "cell_type": "markdown",
   "metadata": {},
   "source": [
    "# ケーススタディ３： 時系列分析（Prophet）\n",
    "\n",
    "様々な要因から予測する回帰と異なり、時系列分析は、結果に周期性があることを前提とした予測。\n",
    "そのため「天気」「気温」「湿度」などの情報は一切、使わない。指定した未来の予測値の計算に、\n",
    "入力データは必要ない。\n",
    "\n",
    "また、結果に対して**信頼区間**が算出される。\n",
    "\n",
    "本来は、深い数学的知識が必要とされるが、[Prophetパッケージ](https://github.com/facebook/prophet)\n",
    "の登場で、誰でも利用できる形になっている。"
   ]
  },
  {
   "cell_type": "code",
   "execution_count": null,
   "metadata": {},
   "outputs": [],
   "source": []
  }
 ],
 "metadata": {
  "language_info": {
   "name": "python"
  }
 },
 "nbformat": 4,
 "nbformat_minor": 2
}
