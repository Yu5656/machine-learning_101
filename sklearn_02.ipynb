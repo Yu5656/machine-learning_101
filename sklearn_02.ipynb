{
 "cells": [
  {
   "cell_type": "markdown",
   "metadata": {},
   "source": [
    "## 特徴量エンジニアリング\n",
    "\n",
    "### 標準化/正規化\n",
    "\n",
    "### 欠損値の扱い\n",
    "\n",
    "### One-Hotエンコーディング\n",
    "\n",
    "### Tokenizer"
   ]
  },
  {
   "cell_type": "code",
   "execution_count": null,
   "metadata": {},
   "outputs": [],
   "source": []
  }
 ],
 "metadata": {
  "language_info": {
   "name": "python"
  }
 },
 "nbformat": 4,
 "nbformat_minor": 2
}
