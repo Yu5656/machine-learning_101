{
 "cells": [
  {
   "cell_type": "markdown",
   "metadata": {},
   "source": [
    "# ２値分類\n",
    "\n",
    "与えられた点群を２つのグループに分割する。\n",
    "\n",
    "分割線は、超平面に限らず、曲線である場合もある。"
   ]
  },
  {
   "cell_type": "code",
   "execution_count": 9,
   "metadata": {},
   "outputs": [],
   "source": [
    "from sklearn.datasets import load_iris\n",
    "from sklearn.model_selection import train_test_split\n",
    "import matplotlib.pyplot as plt\n",
    "import torch\n",
    "from torch import nn"
   ]
  },
  {
   "cell_type": "code",
   "execution_count": 10,
   "metadata": {},
   "outputs": [
    {
     "name": "stdout",
     "output_type": "stream",
     "text": [
      "(150, 4) (150,)\n"
     ]
    }
   ],
   "source": [
    "iris = load_iris()\n",
    "\n",
    "x_org, y_org = iris.data, iris.target\n",
    "\n",
    "print(x_org.shape, y_org.shape)"
   ]
  },
  {
   "cell_type": "code",
   "execution_count": 11,
   "metadata": {},
   "outputs": [],
   "source": [
    "x_data = x_org[:100, :2]\n",
    "y_data = y_org[:100]\n"
   ]
  },
  {
   "cell_type": "code",
   "execution_count": 12,
   "metadata": {},
   "outputs": [
    {
     "name": "stdout",
     "output_type": "stream",
     "text": [
      "(70, 2) (30, 2) (70,) (30,)\n"
     ]
    }
   ],
   "source": [
    "x_train, x_test, y_train, y_test = train_test_split(x_data, y_data, train_size=70, test_size=30, random_state=123)\n",
    "\n",
    "print(x_train.shape, x_test.shape, y_train.shape, y_test.shape)"
   ]
  },
  {
   "cell_type": "code",
   "execution_count": 13,
   "metadata": {},
   "outputs": [
    {
     "data": {
      "text/plain": [
       "<matplotlib.legend.Legend at 0x1fd166aeba0>"
      ]
     },
     "execution_count": 13,
     "metadata": {},
     "output_type": "execute_result"
    },
    {
     "data": {
      "image/png": "[encoded data removed]",
      "text/plain": [
       "<Figure size 640x480 with 1 Axes>"
      ]
     },
     "metadata": {},
     "output_type": "display_data"
    }
   ],
   "source": [
    "x_t0 = x_train[y_train == 0]\n",
    "x_t1 = x_train[y_train == 1]\n",
    "ax = plt.gca()\n",
    "ax.set_aspect(1)\n",
    "plt.scatter(x_t0[:, 0], x_t0[:, 1], marker='x', c='b', label='0 (setosa)')\n",
    "plt.scatter(x_t1[:, 0], x_t1[:, 1], marker='o', c='k', label='1 (versicolor)')\n",
    "plt.xlabel('sepal_length')\n",
    "plt.ylabel('sepal_width')\n",
    "plt.legend()"
   ]
  },
  {
   "cell_type": "code",
   "execution_count": 14,
   "metadata": {},
   "outputs": [],
   "source": [
    "n_input = x_train.shape[1]\n",
    "n_output = 1\n",
    "\n",
    "class Net(nn.Module):\n",
    "    def __init__(self, n_input, n_output):\n",
    "        super().__init__()\n",
    "        self.l1 = nn.Linear(n_input, n_output)\n",
    "        self.sigmoid = torch.nn.Sigmoid()\n",
    "\n",
    "        self.l1.weight.data.fill_(1.0)\n",
    "        self.l1.bias.data.fill_(1.0)\n",
    "    def forward(self, x):\n",
    "        x1 = self.l1(x)\n",
    "        x2 = self.sigmoid(x1)\n",
    "        return x2"
   ]
  },
  {
   "cell_type": "code",
   "execution_count": 15,
   "metadata": {},
   "outputs": [
    {
     "name": "stdout",
     "output_type": "stream",
     "text": [
      "Net(\n",
      "  (l1): Linear(in_features=2, out_features=1, bias=True)\n",
      "  (sigmoid): Sigmoid()\n",
      ")\n"
     ]
    }
   ],
   "source": [
    "net = Net(n_input, n_output)\n",
    "\n",
    "print(net)"
   ]
  },
  {
   "cell_type": "code",
   "execution_count": 16,
   "metadata": {},
   "outputs": [],
   "source": [
    "from torchinfo import summary"
   ]
  },
  {
   "cell_type": "code",
   "execution_count": 17,
   "metadata": {},
   "outputs": [
    {
     "data": {
      "text/plain": [
       "==========================================================================================\n",
       "Layer (type:depth-idx)                   Output Shape              Param #\n",
       "==========================================================================================\n",
       "Net                                      [1]                       --\n",
       "├─Linear: 1-1                            [1]                       3\n",
       "├─Sigmoid: 1-2                           [1]                       --\n",
       "==========================================================================================\n",
       "Total params: 3\n",
       "Trainable params: 3\n",
       "Non-trainable params: 0\n",
       "Total mult-adds (Units.MEGABYTES): 0.00\n",
       "==========================================================================================\n",
       "Input size (MB): 0.00\n",
       "Forward/backward pass size (MB): 0.00\n",
       "Params size (MB): 0.00\n",
       "Estimated Total Size (MB): 0.00\n",
       "=========================================================================================="
      ]
     },
     "execution_count": 17,
     "metadata": {},
     "output_type": "execute_result"
    }
   ],
   "source": [
    "summary(net, (2,))"
   ]
  },
  {
   "cell_type": "code",
   "execution_count": 18,
   "metadata": {},
   "outputs": [],
   "source": [
    "criterion = nn.BCELoss()\n",
    "\n",
    "from torch import optim\n",
    "\n",
    "lr = 0.01\n",
    "optimizer = optim.SGD(net.parameters(), lr=lr)"
   ]
  },
  {
   "cell_type": "code",
   "execution_count": 19,
   "metadata": {},
   "outputs": [],
   "source": [
    "inputs = torch.tensor(x_train).float()\n",
    "labels = torch.tensor(y_train).float()\n",
    "labels1 = labels.view(-1, 1)\n",
    "\n",
    "inputs_test = torch.tensor(x_test).float()\n",
    "labels_test = torch.tensor(y_test).float()\n",
    "\n",
    "labels1_test = labels_test.view(-1, 1)"
   ]
  },
  {
   "cell_type": "code",
   "execution_count": 20,
   "metadata": {},
   "outputs": [
    {
     "data": {
      "image/svg+xml": [
       "<?xml version=\"1.0\" encoding=\"UTF-8\" standalone=\"no\"?>\n",
       "<!DOCTYPE svg PUBLIC \"-//W3C//DTD SVG 1.1//EN\"\n",
       " \"http://www.w3.org/Graphics/SVG/1.1/DTD/svg11.dtd\">\n",
       "<!-- Generated by graphviz version 12.1.0 (20240811.2233)\n",
       " -->\n",
       "<!-- Pages: 1 -->\n",
       "<svg width=\"214pt\" height=\"407pt\"\n",
       " viewBox=\"0.00 0.00 214.00 406.75\" xmlns=\"http://www.w3.org/2000/svg\" xmlns:xlink=\"http://www.w3.org/1999/xlink\">\n",
       "<g id=\"graph0\" class=\"graph\" transform=\"scale(1 1) rotate(0) translate(4 402.75)\">\n",
       "<polygon fill=\"white\" stroke=\"none\" points=\"-4,4 -4,-402.75 210,-402.75 210,4 -4,4\"/>\n",
       "<!-- 2186569874192 -->\n",
       "<g id=\"node1\" class=\"node\">\n",
       "<title>2186569874192</title>\n",
       "<polygon fill=\"#caff70\" stroke=\"black\" points=\"130,-32.75 76,-32.75 76,0 130,0 130,-32.75\"/>\n",
       "<text text-anchor=\"middle\" x=\"103\" y=\"-7.25\" font-family=\"monospace\" font-size=\"10.00\"> ()</text>\n",
       "</g>\n",
       "<!-- 2186592476208 -->\n",
       "<g id=\"node2\" class=\"node\">\n",
       "<title>2186592476208</title>\n",
       "<polygon fill=\"lightgrey\" stroke=\"black\" points=\"192,-89.5 14,-89.5 14,-68.75 192,-68.75 192,-89.5\"/>\n",
       "<text text-anchor=\"middle\" x=\"103\" y=\"-76\" font-family=\"monospace\" font-size=\"10.00\">BinaryCrossEntropyBackward0</text>\n",
       "</g>\n",
       "<!-- 2186592476208&#45;&gt;2186569874192 -->\n",
       "<g id=\"edge8\" class=\"edge\">\n",
       "<title>2186592476208&#45;&gt;2186569874192</title>\n",
       "<path fill=\"none\" stroke=\"black\" d=\"M103,-68.36C103,-61.89 103,-53.05 103,-44.55\"/>\n",
       "<polygon fill=\"black\" stroke=\"black\" points=\"106.5,-44.55 103,-34.55 99.5,-44.55 106.5,-44.55\"/>\n",
       "</g>\n",
       "<!-- 2186616997104 -->\n",
       "<g id=\"node3\" class=\"node\">\n",
       "<title>2186616997104</title>\n",
       "<polygon fill=\"lightgrey\" stroke=\"black\" points=\"159,-146.25 47,-146.25 47,-125.5 159,-125.5 159,-146.25\"/>\n",
       "<text text-anchor=\"middle\" x=\"103\" y=\"-132.75\" font-family=\"monospace\" font-size=\"10.00\">SigmoidBackward0</text>\n",
       "</g>\n",
       "<!-- 2186616997104&#45;&gt;2186592476208 -->\n",
       "<g id=\"edge1\" class=\"edge\">\n",
       "<title>2186616997104&#45;&gt;2186592476208</title>\n",
       "<path fill=\"none\" stroke=\"black\" d=\"M103,-125.09C103,-118.47 103,-109.47 103,-101.27\"/>\n",
       "<polygon fill=\"black\" stroke=\"black\" points=\"106.5,-101.34 103,-91.34 99.5,-101.34 106.5,-101.34\"/>\n",
       "</g>\n",
       "<!-- 2186615236272 -->\n",
       "<g id=\"node4\" class=\"node\">\n",
       "<title>2186615236272</title>\n",
       "<polygon fill=\"lightgrey\" stroke=\"black\" points=\"153,-203 53,-203 53,-182.25 153,-182.25 153,-203\"/>\n",
       "<text text-anchor=\"middle\" x=\"103\" y=\"-189.5\" font-family=\"monospace\" font-size=\"10.00\">AddmmBackward0</text>\n",
       "</g>\n",
       "<!-- 2186615236272&#45;&gt;2186616997104 -->\n",
       "<g id=\"edge2\" class=\"edge\">\n",
       "<title>2186615236272&#45;&gt;2186616997104</title>\n",
       "<path fill=\"none\" stroke=\"black\" d=\"M103,-181.84C103,-175.22 103,-166.22 103,-158.02\"/>\n",
       "<polygon fill=\"black\" stroke=\"black\" points=\"106.5,-158.09 103,-148.09 99.5,-158.09 106.5,-158.09\"/>\n",
       "</g>\n",
       "<!-- 2186616996864 -->\n",
       "<g id=\"node5\" class=\"node\">\n",
       "<title>2186616996864</title>\n",
       "<polygon fill=\"lightgrey\" stroke=\"black\" points=\"100,-259.75 0,-259.75 0,-239 100,-239 100,-259.75\"/>\n",
       "<text text-anchor=\"middle\" x=\"50\" y=\"-246.25\" font-family=\"monospace\" font-size=\"10.00\">AccumulateGrad</text>\n",
       "</g>\n",
       "<!-- 2186616996864&#45;&gt;2186615236272 -->\n",
       "<g id=\"edge3\" class=\"edge\">\n",
       "<title>2186616996864&#45;&gt;2186615236272</title>\n",
       "<path fill=\"none\" stroke=\"black\" d=\"M59.48,-238.59C66.79,-231.03 77.09,-220.39 85.84,-211.35\"/>\n",
       "<polygon fill=\"black\" stroke=\"black\" points=\"88.11,-214.04 92.55,-204.42 83.08,-209.17 88.11,-214.04\"/>\n",
       "</g>\n",
       "<!-- 2186570188192 -->\n",
       "<g id=\"node6\" class=\"node\">\n",
       "<title>2186570188192</title>\n",
       "<polygon fill=\"lightblue\" stroke=\"black\" points=\"79,-329.25 21,-329.25 21,-295.75 79,-295.75 79,-329.25\"/>\n",
       "<text text-anchor=\"middle\" x=\"50\" y=\"-315.75\" font-family=\"monospace\" font-size=\"10.00\">l1.bias</text>\n",
       "<text text-anchor=\"middle\" x=\"50\" y=\"-303\" font-family=\"monospace\" font-size=\"10.00\"> (1)</text>\n",
       "</g>\n",
       "<!-- 2186570188192&#45;&gt;2186616996864 -->\n",
       "<g id=\"edge4\" class=\"edge\">\n",
       "<title>2186570188192&#45;&gt;2186616996864</title>\n",
       "<path fill=\"none\" stroke=\"black\" d=\"M50,-295.44C50,-288.1 50,-279.32 50,-271.46\"/>\n",
       "<polygon fill=\"black\" stroke=\"black\" points=\"53.5,-271.73 50,-261.73 46.5,-271.73 53.5,-271.73\"/>\n",
       "</g>\n",
       "<!-- 2186616996816 -->\n",
       "<g id=\"node7\" class=\"node\">\n",
       "<title>2186616996816</title>\n",
       "<polygon fill=\"lightgrey\" stroke=\"black\" points=\"194,-259.75 118,-259.75 118,-239 194,-239 194,-259.75\"/>\n",
       "<text text-anchor=\"middle\" x=\"156\" y=\"-246.25\" font-family=\"monospace\" font-size=\"10.00\">TBackward0</text>\n",
       "</g>\n",
       "<!-- 2186616996816&#45;&gt;2186615236272 -->\n",
       "<g id=\"edge5\" class=\"edge\">\n",
       "<title>2186616996816&#45;&gt;2186615236272</title>\n",
       "<path fill=\"none\" stroke=\"black\" d=\"M146.52,-238.59C139.21,-231.03 128.91,-220.39 120.16,-211.35\"/>\n",
       "<polygon fill=\"black\" stroke=\"black\" points=\"122.92,-209.17 113.45,-204.42 117.89,-214.04 122.92,-209.17\"/>\n",
       "</g>\n",
       "<!-- 2186616996768 -->\n",
       "<g id=\"node8\" class=\"node\">\n",
       "<title>2186616996768</title>\n",
       "<polygon fill=\"lightgrey\" stroke=\"black\" points=\"206,-322.88 106,-322.88 106,-302.12 206,-302.12 206,-322.88\"/>\n",
       "<text text-anchor=\"middle\" x=\"156\" y=\"-309.38\" font-family=\"monospace\" font-size=\"10.00\">AccumulateGrad</text>\n",
       "</g>\n",
       "<!-- 2186616996768&#45;&gt;2186616996816 -->\n",
       "<g id=\"edge6\" class=\"edge\">\n",
       "<title>2186616996768&#45;&gt;2186616996816</title>\n",
       "<path fill=\"none\" stroke=\"black\" d=\"M156,-301.68C156,-293.52 156,-281.63 156,-271.35\"/>\n",
       "<polygon fill=\"black\" stroke=\"black\" points=\"159.5,-271.48 156,-261.48 152.5,-271.48 159.5,-271.48\"/>\n",
       "</g>\n",
       "<!-- 2186570188592 -->\n",
       "<g id=\"node9\" class=\"node\">\n",
       "<title>2186570188592</title>\n",
       "<polygon fill=\"lightblue\" stroke=\"black\" points=\"191,-398.75 121,-398.75 121,-365.25 191,-365.25 191,-398.75\"/>\n",
       "<text text-anchor=\"middle\" x=\"156\" y=\"-385.25\" font-family=\"monospace\" font-size=\"10.00\">l1.weight</text>\n",
       "<text text-anchor=\"middle\" x=\"156\" y=\"-372.5\" font-family=\"monospace\" font-size=\"10.00\"> (1, 2)</text>\n",
       "</g>\n",
       "<!-- 2186570188592&#45;&gt;2186616996768 -->\n",
       "<g id=\"edge7\" class=\"edge\">\n",
       "<title>2186570188592&#45;&gt;2186616996768</title>\n",
       "<path fill=\"none\" stroke=\"black\" d=\"M156,-365C156,-355.9 156,-344.39 156,-334.57\"/>\n",
       "<polygon fill=\"black\" stroke=\"black\" points=\"159.5,-334.84 156,-324.84 152.5,-334.84 159.5,-334.84\"/>\n",
       "</g>\n",
       "</g>\n",
       "</svg>\n"
      ],
      "text/plain": [
       "<graphviz.graphs.Digraph at 0x1fd1c771d30>"
      ]
     },
     "metadata": {},
     "output_type": "display_data"
    }
   ],
   "source": [
    "outputs = net(inputs)\n",
    "loss = criterion(outputs, labels1)\n",
    "\n",
    "from torchviz import make_dot\n",
    "\n",
    "g = make_dot(loss, params=dict(net.named_parameters()))\n",
    "display(g)"
   ]
  },
  {
   "cell_type": "code",
   "execution_count": 21,
   "metadata": {},
   "outputs": [],
   "source": [
    "num_epochs = 10000\n",
    "\n",
    "import numpy as np\n",
    "\n",
    "history = np.zeros((0, 2))"
   ]
  },
  {
   "cell_type": "code",
   "execution_count": 22,
   "metadata": {},
   "outputs": [
    {
     "name": "stdout",
     "output_type": "stream",
     "text": [
      "Epoch [0/10000, Loss:]\n",
      "Epoch [1000/10000, Loss:]\n",
      "Epoch [2000/10000, Loss:]\n",
      "Epoch [3000/10000, Loss:]\n",
      "Epoch [4000/10000, Loss:]\n",
      "Epoch [5000/10000, Loss:]\n",
      "Epoch [6000/10000, Loss:]\n",
      "Epoch [7000/10000, Loss:]\n",
      "Epoch [8000/10000, Loss:]\n",
      "Epoch [9000/10000, Loss:]\n"
     ]
    }
   ],
   "source": [
    "for epoch in range(num_epochs):\n",
    "    optimizer.zero_grad()\n",
    "    outputs = net(inputs)\n",
    "    loss = criterion(outputs, labels1)\n",
    "    loss.backward()\n",
    "    optimizer.step()\n",
    "    train_loss = loss.item()\n",
    "    predicted = torch.where(outputs < 0.5, 0, 1)\n",
    "    train_acc = (predicted == labels1).sum() / len(y_train)\n",
    "\n",
    "\n",
    "    outputs_test = net(inputs_test)\n",
    "    loss_test = criterion(outputs_test, labels1_test)\n",
    "    val_loss = loss_test.item()\n",
    "    predicted_test = torch.where(outputs_test < 0.5, 0, 1)\n",
    "    val_acc = (predicted_test == labels1_test).sum() / len(y_test)\n",
    "    if epoch % 1000 == 0:\n",
    "        print(f'Epoch [{epoch}/{num_epochs}, Loss:]')\n"
   ]
  },
  {
   "cell_type": "code",
   "execution_count": null,
   "metadata": {},
   "outputs": [],
   "source": []
  }
 ],
 "metadata": {
  "kernelspec": {
   "display_name": "Python 3",
   "language": "python",
   "name": "python3"
  },
  "language_info": {
   "codemirror_mode": {
    "name": "ipython",
    "version": 3
   },
   "file_extension": ".py",
   "mimetype": "text/x-python",
   "name": "python",
   "nbconvert_exporter": "python",
   "pygments_lexer": "ipython3",
   "version": "3.12.4"
  }
 },
 "nbformat": 4,
 "nbformat_minor": 2
}
