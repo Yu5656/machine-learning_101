{
 "cells": [
  {
   "cell_type": "markdown",
   "metadata": {},
   "source": [
    "# ２次関数のフィッティング"
   ]
  },
  {
   "cell_type": "code",
   "execution_count": 13,
   "metadata": {},
   "outputs": [],
   "source": [
    "import numpy as np\n",
    "import matplotlib.pyplot as plt\n",
    "import japanize_matplotlib\n",
    "import torch\n",
    "\n",
    "N = 100 # 入力層の次元\n",
    "M = 500 # 隠れ層の次元\n",
    "\n",
    "np.random.seed(123)\n",
    "x = np.random.randn(N)\n",
    "y = x ** 2 + np.random.randn(N) * 0.1\n",
    "\n",
    "x = torch.tensor(x).float()\n",
    "y = torch.tensor(y).float()\n",
    "\n",
    "x_train = x[:N // 2]\n",
    "x_test  = x[N // 2:]\n",
    "y_train = y[:N // 2]\n",
    "y_test  = y[N // 2:]\n"
   ]
  },
  {
   "cell_type": "code",
   "execution_count": 14,
   "metadata": {},
   "outputs": [
    {
     "data": {
      "text/plain": [
       "<matplotlib.legend.Legend at 0x12b5ad0a0>"
      ]
     },
     "execution_count": 14,
     "metadata": {},
     "output_type": "execute_result"
    },
    {
     "data": {
      "image/png": "[encoded data removed]",
      "text/plain": [
       "<Figure size 640x480 with 1 Axes>"
      ]
     },
     "metadata": {},
     "output_type": "display_data"
    }
   ],
   "source": [
    "plt.scatter(x_train, y_train, c='r', label='train')\n",
    "plt.scatter(x_test, y_test, c='g', marker='x', label='test')\n",
    "plt.legend()"
   ]
  },
  {
   "cell_type": "code",
   "execution_count": 15,
   "metadata": {},
   "outputs": [],
   "source": [
    "from torch import nn\n",
    "\n",
    "class Net(nn.Module):\n",
    "    def __init__(self, n_input, n_output):\n",
    "        super().__init__()\n",
    "        relu = nn.ReLU(inplace=True)\n",
    "        # これがレイヤー関数\n",
    "        self.net = nn.Sequential(\n",
    "            nn.Linear(n_input, M),\n",
    "            relu,\n",
    "            nn.Linear(M, n_output),\n",
    "        )\n",
    "    def forward(self, x):\n",
    "        return self.net(x)\n",
    "\n",
    "net = Net(N // 2, N // 2)\n",
    "\n",
    "outputs = net(x_train)\n"
   ]
  },
  {
   "cell_type": "code",
   "execution_count": 16,
   "metadata": {},
   "outputs": [
    {
     "name": "stdout",
     "output_type": "stream",
     "text": [
      "('net.0.weight', Parameter containing:\n",
      "tensor([[-0.0146, -0.1061, -0.1160,  ..., -0.0644, -0.0015,  0.0780],\n",
      "        [-0.0948, -0.1056, -0.0724,  ..., -0.0160, -0.1216,  0.0736],\n",
      "        [ 0.0419,  0.1412,  0.1115,  ..., -0.0312,  0.0218, -0.0913],\n",
      "        ...,\n",
      "        [ 0.0660,  0.0970,  0.0999,  ..., -0.0776, -0.0083,  0.0578],\n",
      "        [ 0.1392, -0.1056, -0.0281,  ...,  0.1366,  0.0917, -0.0379],\n",
      "        [-0.1036, -0.0012, -0.1279,  ...,  0.0393,  0.0484,  0.1284]],\n",
      "       requires_grad=True))\n",
      "('net.0.bias', Parameter containing:\n",
      "tensor([ 0.0088, -0.0273, -0.0053,  0.1192, -0.0749, -0.0809, -0.1007,  0.0248,\n",
      "         0.1062, -0.0638,  0.0101, -0.1080,  0.0060,  0.0379,  0.0440,  0.1112,\n",
      "        -0.1126, -0.1156, -0.1034, -0.1084, -0.0669,  0.0601, -0.0115,  0.1366,\n",
      "        -0.0352,  0.1208,  0.0324, -0.0381, -0.0104, -0.1017, -0.0334, -0.1068,\n",
      "         0.0086, -0.1148,  0.1376, -0.0539, -0.0507,  0.0380,  0.0319, -0.0279,\n",
      "        -0.0784,  0.0853, -0.0082,  0.0635, -0.1363, -0.1185,  0.0767,  0.1015,\n",
      "         0.1097, -0.1367, -0.1313, -0.0337,  0.1407,  0.1080, -0.0508,  0.1322,\n",
      "         0.0332, -0.0068,  0.1349, -0.0601, -0.1015,  0.0265, -0.0579,  0.0971,\n",
      "        -0.1322,  0.1077, -0.0852, -0.0216, -0.1408,  0.1281,  0.1297,  0.1413,\n",
      "        -0.1350, -0.0115,  0.1023,  0.1327, -0.0970,  0.1308, -0.1319,  0.1346,\n",
      "        -0.0266,  0.0226, -0.0262,  0.0541, -0.1227,  0.0273,  0.0012,  0.0093,\n",
      "        -0.1283,  0.0513,  0.0265,  0.1090, -0.0598, -0.0454, -0.0378,  0.0303,\n",
      "        -0.0342, -0.1294, -0.1272, -0.1250,  0.1119, -0.0359, -0.0968,  0.0422,\n",
      "         0.0795,  0.0422, -0.0815, -0.0530,  0.1084, -0.0265,  0.0078, -0.0781,\n",
      "         0.0827,  0.0072,  0.0895, -0.0064,  0.0295, -0.0370,  0.0638, -0.0603,\n",
      "         0.1209, -0.0627,  0.0682, -0.0281,  0.0496, -0.0730, -0.0166, -0.0352,\n",
      "         0.1327,  0.0286, -0.0957, -0.0357, -0.0073, -0.0506, -0.0097, -0.0245,\n",
      "         0.0696, -0.0547, -0.1135,  0.0473, -0.0401, -0.0537,  0.0252,  0.1396,\n",
      "        -0.0557,  0.0034,  0.0906, -0.1253, -0.0107,  0.1245,  0.0465,  0.1355,\n",
      "        -0.0453, -0.0158,  0.0831, -0.1249, -0.0720, -0.1050,  0.1075, -0.1032,\n",
      "         0.1347,  0.1410,  0.0855,  0.0768, -0.0686,  0.0109,  0.0513, -0.0823,\n",
      "         0.0304, -0.0824, -0.1068,  0.0714, -0.0899, -0.0326,  0.0488,  0.1281,\n",
      "         0.1382, -0.1201,  0.0222,  0.1313, -0.1091, -0.1382,  0.1362,  0.0271,\n",
      "         0.1184,  0.0813, -0.1383, -0.1256, -0.0579, -0.1352, -0.0144, -0.1003,\n",
      "        -0.1105,  0.0691, -0.0654, -0.0431,  0.1226,  0.0058,  0.0005,  0.0889,\n",
      "        -0.0380, -0.0235, -0.1293,  0.0402, -0.1228,  0.0319,  0.0134,  0.0928,\n",
      "         0.1188,  0.0873, -0.1258, -0.0247,  0.1163, -0.1075,  0.1099,  0.0843,\n",
      "        -0.0221, -0.0854,  0.0881,  0.0689,  0.1304,  0.0787,  0.0370, -0.0908,\n",
      "         0.0160, -0.1085,  0.1082,  0.0007, -0.0557,  0.0855, -0.1341, -0.0944,\n",
      "        -0.0265, -0.1109, -0.1281, -0.0114,  0.1137, -0.0720, -0.0110,  0.0150,\n",
      "         0.0719,  0.0995,  0.0963,  0.0150, -0.0356, -0.1093,  0.1385,  0.0190,\n",
      "         0.1255,  0.0668, -0.0824, -0.1277,  0.0612, -0.0605, -0.0511,  0.0888,\n",
      "         0.1100,  0.0738, -0.1048, -0.0627, -0.0229, -0.1045, -0.0316, -0.1251,\n",
      "        -0.0161, -0.0640,  0.0938,  0.0102, -0.0578, -0.0806, -0.0941, -0.1180,\n",
      "         0.1111,  0.0163,  0.0989, -0.0209,  0.0521, -0.0199, -0.0729,  0.0941,\n",
      "         0.0852, -0.0686, -0.0127, -0.1188,  0.0310, -0.0628,  0.0510,  0.1280,\n",
      "         0.0012,  0.1104, -0.0254, -0.0179, -0.0921,  0.1329, -0.1141, -0.0278,\n",
      "        -0.0849,  0.1020,  0.1144, -0.1103,  0.0138, -0.0963,  0.0908, -0.1253,\n",
      "         0.0315,  0.0850, -0.0783, -0.0084, -0.0448, -0.0726, -0.0013, -0.1335,\n",
      "         0.1241, -0.0703,  0.1232, -0.1114,  0.1317, -0.1343,  0.0578, -0.1104,\n",
      "         0.0259,  0.0807, -0.1257, -0.1270,  0.1172,  0.0086, -0.0624, -0.0906,\n",
      "        -0.1148,  0.0653,  0.0403, -0.0984, -0.0543,  0.0015, -0.1093,  0.0790,\n",
      "        -0.0456,  0.1279, -0.0249,  0.0481,  0.0705,  0.1086, -0.0547,  0.0593,\n",
      "         0.1061, -0.0939,  0.0946,  0.0265, -0.1305,  0.0143,  0.1092, -0.0133,\n",
      "        -0.0928, -0.0319, -0.0782,  0.0266, -0.1256,  0.0998,  0.0404,  0.0559,\n",
      "        -0.0581,  0.0603,  0.0793, -0.0116,  0.1264, -0.0546, -0.1001,  0.1067,\n",
      "        -0.1292,  0.1277, -0.0279, -0.0220, -0.1139,  0.0242, -0.0940, -0.0495,\n",
      "        -0.0226,  0.0410,  0.0204, -0.0526, -0.0441,  0.0964, -0.0228,  0.0542,\n",
      "        -0.0298, -0.0090, -0.0925, -0.0061,  0.0186, -0.0915,  0.0753, -0.1208,\n",
      "        -0.0723,  0.1218,  0.0197, -0.0698,  0.0868,  0.0256,  0.0371,  0.1360,\n",
      "        -0.1387,  0.0810,  0.0037,  0.1120,  0.0833,  0.0322, -0.1159, -0.0428,\n",
      "         0.0432, -0.0449, -0.0523,  0.1160, -0.0437, -0.0437,  0.1086,  0.0156,\n",
      "        -0.0043, -0.0903, -0.1162, -0.0208,  0.1373,  0.1374, -0.0687,  0.0775,\n",
      "        -0.0182, -0.1234, -0.1362, -0.0092,  0.0350, -0.0275, -0.0453,  0.1030,\n",
      "        -0.0101,  0.1083, -0.0665,  0.1287,  0.0527, -0.1320,  0.0766, -0.0036,\n",
      "         0.0578, -0.1376,  0.0387,  0.0171,  0.0138, -0.0720, -0.0965,  0.0392,\n",
      "         0.1222,  0.1136, -0.1085, -0.0379, -0.0750,  0.0623, -0.0690, -0.0893,\n",
      "         0.1267, -0.0134, -0.0284, -0.0021,  0.0533, -0.0232, -0.0990, -0.0925,\n",
      "        -0.0586,  0.0244,  0.0487,  0.1044,  0.0532,  0.1066,  0.0488, -0.0166,\n",
      "         0.0005, -0.0194,  0.0786,  0.0084,  0.0867,  0.0799, -0.1158,  0.1016,\n",
      "         0.0189, -0.0962, -0.0040, -0.1355, -0.0728,  0.0060, -0.0938,  0.0362,\n",
      "        -0.0519, -0.0060,  0.1407, -0.0115, -0.1409, -0.0496,  0.0811, -0.1128,\n",
      "         0.0027, -0.1165, -0.0136,  0.0230], requires_grad=True))\n",
      "('net.2.weight', Parameter containing:\n",
      "tensor([[ 0.0025, -0.0121,  0.0424,  ..., -0.0177,  0.0078, -0.0048],\n",
      "        [ 0.0305,  0.0323, -0.0023,  ..., -0.0221,  0.0093,  0.0362],\n",
      "        [ 0.0093, -0.0292, -0.0009,  ..., -0.0193,  0.0130,  0.0076],\n",
      "        ...,\n",
      "        [ 0.0437, -0.0170,  0.0357,  ...,  0.0324,  0.0265, -0.0425],\n",
      "        [-0.0116,  0.0059,  0.0117,  ...,  0.0003,  0.0052, -0.0387],\n",
      "        [-0.0169, -0.0397,  0.0242,  ..., -0.0183, -0.0289, -0.0114]],\n",
      "       requires_grad=True))\n",
      "('net.2.bias', Parameter containing:\n",
      "tensor([-0.0066,  0.0426, -0.0347,  0.0417,  0.0179,  0.0433,  0.0147,  0.0299,\n",
      "         0.0446,  0.0397,  0.0098,  0.0192, -0.0093, -0.0356, -0.0143,  0.0119,\n",
      "         0.0044,  0.0240,  0.0429,  0.0106,  0.0354,  0.0008, -0.0406,  0.0277,\n",
      "         0.0310,  0.0273, -0.0014, -0.0357,  0.0395, -0.0032,  0.0271,  0.0346,\n",
      "         0.0117, -0.0160, -0.0444, -0.0420,  0.0116,  0.0008, -0.0205, -0.0410,\n",
      "        -0.0070,  0.0200,  0.0272,  0.0247,  0.0090, -0.0126,  0.0276,  0.0212,\n",
      "        -0.0333,  0.0310], requires_grad=True))\n"
     ]
    }
   ],
   "source": [
    "for param in net.named_parameters():\n",
    "    print(param)"
   ]
  },
  {
   "cell_type": "code",
   "execution_count": 17,
   "metadata": {},
   "outputs": [
    {
     "data": {
      "image/svg+xml": [
       "<?xml version=\"1.0\" encoding=\"UTF-8\" standalone=\"no\"?>\n",
       "<!DOCTYPE svg PUBLIC \"-//W3C//DTD SVG 1.1//EN\"\n",
       " \"http://www.w3.org/Graphics/SVG/1.1/DTD/svg11.dtd\">\n",
       "<!-- Generated by graphviz version 12.1.0 (20240811.2233)\n",
       " -->\n",
       "<!-- Pages: 1 -->\n",
       "<svg width=\"355pt\" height=\"716pt\"\n",
       " viewBox=\"0.00 0.00 355.00 716.00\" xmlns=\"http://www.w3.org/2000/svg\" xmlns:xlink=\"http://www.w3.org/1999/xlink\">\n",
       "<g id=\"graph0\" class=\"graph\" transform=\"scale(1 1) rotate(0) translate(4 712)\">\n",
       "<polygon fill=\"white\" stroke=\"none\" points=\"-4,4 -4,-712 351,-712 351,4 -4,4\"/>\n",
       "<!-- 5022381504 -->\n",
       "<g id=\"node1\" class=\"node\">\n",
       "<title>5022381504</title>\n",
       "<polygon fill=\"#caff70\" stroke=\"black\" points=\"194,-32.75 140,-32.75 140,0 194,0 194,-32.75\"/>\n",
       "<text text-anchor=\"middle\" x=\"167\" y=\"-7.25\" font-family=\"monospace\" font-size=\"10.00\"> ()</text>\n",
       "</g>\n",
       "<!-- 5022186560 -->\n",
       "<g id=\"node2\" class=\"node\">\n",
       "<title>5022186560</title>\n",
       "<polygon fill=\"lightgrey\" stroke=\"black\" points=\"211,-89.5 123,-89.5 123,-68.75 211,-68.75 211,-89.5\"/>\n",
       "<text text-anchor=\"middle\" x=\"167\" y=\"-76\" font-family=\"monospace\" font-size=\"10.00\">DivBackward0</text>\n",
       "</g>\n",
       "<!-- 5022186560&#45;&gt;5022381504 -->\n",
       "<g id=\"edge18\" class=\"edge\">\n",
       "<title>5022186560&#45;&gt;5022381504</title>\n",
       "<path fill=\"none\" stroke=\"black\" d=\"M167,-68.36C167,-61.89 167,-53.05 167,-44.55\"/>\n",
       "<polygon fill=\"black\" stroke=\"black\" points=\"170.5,-44.55 167,-34.55 163.5,-44.55 170.5,-44.55\"/>\n",
       "</g>\n",
       "<!-- 5022435504 -->\n",
       "<g id=\"node3\" class=\"node\">\n",
       "<title>5022435504</title>\n",
       "<polygon fill=\"lightgrey\" stroke=\"black\" points=\"223,-146.25 111,-146.25 111,-125.5 223,-125.5 223,-146.25\"/>\n",
       "<text text-anchor=\"middle\" x=\"167\" y=\"-132.75\" font-family=\"monospace\" font-size=\"10.00\">MseLossBackward0</text>\n",
       "</g>\n",
       "<!-- 5022435504&#45;&gt;5022186560 -->\n",
       "<g id=\"edge1\" class=\"edge\">\n",
       "<title>5022435504&#45;&gt;5022186560</title>\n",
       "<path fill=\"none\" stroke=\"black\" d=\"M167,-125.09C167,-118.47 167,-109.47 167,-101.27\"/>\n",
       "<polygon fill=\"black\" stroke=\"black\" points=\"170.5,-101.34 167,-91.34 163.5,-101.34 170.5,-101.34\"/>\n",
       "</g>\n",
       "<!-- 5021300912 -->\n",
       "<g id=\"node4\" class=\"node\">\n",
       "<title>5021300912</title>\n",
       "<polygon fill=\"lightgrey\" stroke=\"black\" points=\"214,-203 120,-203 120,-182.25 214,-182.25 214,-203\"/>\n",
       "<text text-anchor=\"middle\" x=\"167\" y=\"-189.5\" font-family=\"monospace\" font-size=\"10.00\">ViewBackward0</text>\n",
       "</g>\n",
       "<!-- 5021300912&#45;&gt;5022435504 -->\n",
       "<g id=\"edge2\" class=\"edge\">\n",
       "<title>5021300912&#45;&gt;5022435504</title>\n",
       "<path fill=\"none\" stroke=\"black\" d=\"M167,-181.84C167,-175.22 167,-166.22 167,-158.02\"/>\n",
       "<polygon fill=\"black\" stroke=\"black\" points=\"170.5,-158.09 167,-148.09 163.5,-158.09 170.5,-158.09\"/>\n",
       "</g>\n",
       "<!-- 5021290640 -->\n",
       "<g id=\"node5\" class=\"node\">\n",
       "<title>5021290640</title>\n",
       "<polygon fill=\"lightgrey\" stroke=\"black\" points=\"217,-259.75 117,-259.75 117,-239 217,-239 217,-259.75\"/>\n",
       "<text text-anchor=\"middle\" x=\"167\" y=\"-246.25\" font-family=\"monospace\" font-size=\"10.00\">AddmmBackward0</text>\n",
       "</g>\n",
       "<!-- 5021290640&#45;&gt;5021300912 -->\n",
       "<g id=\"edge3\" class=\"edge\">\n",
       "<title>5021290640&#45;&gt;5021300912</title>\n",
       "<path fill=\"none\" stroke=\"black\" d=\"M167,-238.59C167,-231.97 167,-222.97 167,-214.77\"/>\n",
       "<polygon fill=\"black\" stroke=\"black\" points=\"170.5,-214.84 167,-204.84 163.5,-214.84 170.5,-214.84\"/>\n",
       "</g>\n",
       "<!-- 5021288624 -->\n",
       "<g id=\"node6\" class=\"node\">\n",
       "<title>5021288624</title>\n",
       "<polygon fill=\"lightgrey\" stroke=\"black\" points=\"100,-316.5 0,-316.5 0,-295.75 100,-295.75 100,-316.5\"/>\n",
       "<text text-anchor=\"middle\" x=\"50\" y=\"-303\" font-family=\"monospace\" font-size=\"10.00\">AccumulateGrad</text>\n",
       "</g>\n",
       "<!-- 5021288624&#45;&gt;5021290640 -->\n",
       "<g id=\"edge4\" class=\"edge\">\n",
       "<title>5021288624&#45;&gt;5021290640</title>\n",
       "<path fill=\"none\" stroke=\"black\" d=\"M70.92,-295.34C88.97,-286.89 115.3,-274.57 135.84,-264.96\"/>\n",
       "<polygon fill=\"black\" stroke=\"black\" points=\"137.32,-268.13 144.89,-260.72 134.35,-261.79 137.32,-268.13\"/>\n",
       "</g>\n",
       "<!-- 5022378544 -->\n",
       "<g id=\"node7\" class=\"node\">\n",
       "<title>5022378544</title>\n",
       "<polygon fill=\"lightblue\" stroke=\"black\" points=\"87,-386 11,-386 11,-352.5 87,-352.5 87,-386\"/>\n",
       "<text text-anchor=\"middle\" x=\"49\" y=\"-372.5\" font-family=\"monospace\" font-size=\"10.00\">net.2.bias</text>\n",
       "<text text-anchor=\"middle\" x=\"49\" y=\"-359.75\" font-family=\"monospace\" font-size=\"10.00\"> (50)</text>\n",
       "</g>\n",
       "<!-- 5022378544&#45;&gt;5021288624 -->\n",
       "<g id=\"edge5\" class=\"edge\">\n",
       "<title>5022378544&#45;&gt;5021288624</title>\n",
       "<path fill=\"none\" stroke=\"black\" d=\"M49.26,-352.19C49.38,-344.85 49.53,-336.07 49.66,-328.21\"/>\n",
       "<polygon fill=\"black\" stroke=\"black\" points=\"53.15,-328.54 49.81,-318.48 46.15,-328.42 53.15,-328.54\"/>\n",
       "</g>\n",
       "<!-- 5021289920 -->\n",
       "<g id=\"node8\" class=\"node\">\n",
       "<title>5021289920</title>\n",
       "<polygon fill=\"lightgrey\" stroke=\"black\" points=\"214,-316.5 120,-316.5 120,-295.75 214,-295.75 214,-316.5\"/>\n",
       "<text text-anchor=\"middle\" x=\"167\" y=\"-303\" font-family=\"monospace\" font-size=\"10.00\">ViewBackward0</text>\n",
       "</g>\n",
       "<!-- 5021289920&#45;&gt;5021290640 -->\n",
       "<g id=\"edge6\" class=\"edge\">\n",
       "<title>5021289920&#45;&gt;5021290640</title>\n",
       "<path fill=\"none\" stroke=\"black\" d=\"M167,-295.34C167,-288.72 167,-279.72 167,-271.52\"/>\n",
       "<polygon fill=\"black\" stroke=\"black\" points=\"170.5,-271.59 167,-261.59 163.5,-271.59 170.5,-271.59\"/>\n",
       "</g>\n",
       "<!-- 5021215968 -->\n",
       "<g id=\"node9\" class=\"node\">\n",
       "<title>5021215968</title>\n",
       "<polygon fill=\"lightgrey\" stroke=\"black\" points=\"229,-379.62 105,-379.62 105,-358.88 229,-358.88 229,-379.62\"/>\n",
       "<text text-anchor=\"middle\" x=\"167\" y=\"-366.12\" font-family=\"monospace\" font-size=\"10.00\">AsStridedBackward0</text>\n",
       "</g>\n",
       "<!-- 5021215968&#45;&gt;5021289920 -->\n",
       "<g id=\"edge7\" class=\"edge\">\n",
       "<title>5021215968&#45;&gt;5021289920</title>\n",
       "<path fill=\"none\" stroke=\"black\" d=\"M167,-358.43C167,-350.27 167,-338.38 167,-328.1\"/>\n",
       "<polygon fill=\"black\" stroke=\"black\" points=\"170.5,-328.23 167,-318.23 163.5,-328.23 170.5,-328.23\"/>\n",
       "</g>\n",
       "<!-- 5021205264 -->\n",
       "<g id=\"node10\" class=\"node\">\n",
       "<title>5021205264</title>\n",
       "<polygon fill=\"lightgrey\" stroke=\"black\" points=\"205,-449.12 129,-449.12 129,-428.38 205,-428.38 205,-449.12\"/>\n",
       "<text text-anchor=\"middle\" x=\"167\" y=\"-435.62\" font-family=\"monospace\" font-size=\"10.00\">CopySlices</text>\n",
       "</g>\n",
       "<!-- 5021205264&#45;&gt;5021215968 -->\n",
       "<g id=\"edge8\" class=\"edge\">\n",
       "<title>5021205264&#45;&gt;5021215968</title>\n",
       "<path fill=\"none\" stroke=\"black\" d=\"M167,-428.08C167,-418.46 167,-403.38 167,-391.04\"/>\n",
       "<polygon fill=\"black\" stroke=\"black\" points=\"170.5,-391.42 167,-381.42 163.5,-391.42 170.5,-391.42\"/>\n",
       "</g>\n",
       "<!-- 5021212992 -->\n",
       "<g id=\"node11\" class=\"node\">\n",
       "<title>5021212992</title>\n",
       "<polygon fill=\"lightgrey\" stroke=\"black\" points=\"217,-512.25 117,-512.25 117,-491.5 217,-491.5 217,-512.25\"/>\n",
       "<text text-anchor=\"middle\" x=\"167\" y=\"-498.75\" font-family=\"monospace\" font-size=\"10.00\">AddmmBackward0</text>\n",
       "</g>\n",
       "<!-- 5021212992&#45;&gt;5021205264 -->\n",
       "<g id=\"edge9\" class=\"edge\">\n",
       "<title>5021212992&#45;&gt;5021205264</title>\n",
       "<path fill=\"none\" stroke=\"black\" d=\"M167,-491.05C167,-482.9 167,-471.01 167,-460.73\"/>\n",
       "<polygon fill=\"black\" stroke=\"black\" points=\"170.5,-460.86 167,-450.86 163.5,-460.86 170.5,-460.86\"/>\n",
       "</g>\n",
       "<!-- 5021214240 -->\n",
       "<g id=\"node12\" class=\"node\">\n",
       "<title>5021214240</title>\n",
       "<polygon fill=\"lightgrey\" stroke=\"black\" points=\"164,-569 64,-569 64,-548.25 164,-548.25 164,-569\"/>\n",
       "<text text-anchor=\"middle\" x=\"114\" y=\"-555.5\" font-family=\"monospace\" font-size=\"10.00\">AccumulateGrad</text>\n",
       "</g>\n",
       "<!-- 5021214240&#45;&gt;5021212992 -->\n",
       "<g id=\"edge10\" class=\"edge\">\n",
       "<title>5021214240&#45;&gt;5021212992</title>\n",
       "<path fill=\"none\" stroke=\"black\" d=\"M123.48,-547.84C130.79,-540.28 141.09,-529.64 149.84,-520.6\"/>\n",
       "<polygon fill=\"black\" stroke=\"black\" points=\"152.11,-523.29 156.55,-513.67 147.08,-518.42 152.11,-523.29\"/>\n",
       "</g>\n",
       "<!-- 5022470288 -->\n",
       "<g id=\"node13\" class=\"node\">\n",
       "<title>5022470288</title>\n",
       "<polygon fill=\"lightblue\" stroke=\"black\" points=\"152,-638.5 76,-638.5 76,-605 152,-605 152,-638.5\"/>\n",
       "<text text-anchor=\"middle\" x=\"114\" y=\"-625\" font-family=\"monospace\" font-size=\"10.00\">net.0.bias</text>\n",
       "<text text-anchor=\"middle\" x=\"114\" y=\"-612.25\" font-family=\"monospace\" font-size=\"10.00\"> (500)</text>\n",
       "</g>\n",
       "<!-- 5022470288&#45;&gt;5021214240 -->\n",
       "<g id=\"edge11\" class=\"edge\">\n",
       "<title>5022470288&#45;&gt;5021214240</title>\n",
       "<path fill=\"none\" stroke=\"black\" d=\"M114,-604.69C114,-597.35 114,-588.57 114,-580.71\"/>\n",
       "<polygon fill=\"black\" stroke=\"black\" points=\"117.5,-580.98 114,-570.98 110.5,-580.98 117.5,-580.98\"/>\n",
       "</g>\n",
       "<!-- 5022347664 -->\n",
       "<g id=\"node14\" class=\"node\">\n",
       "<title>5022347664</title>\n",
       "<polygon fill=\"lightgrey\" stroke=\"black\" points=\"258,-569 182,-569 182,-548.25 258,-548.25 258,-569\"/>\n",
       "<text text-anchor=\"middle\" x=\"220\" y=\"-555.5\" font-family=\"monospace\" font-size=\"10.00\">TBackward0</text>\n",
       "</g>\n",
       "<!-- 5022347664&#45;&gt;5021212992 -->\n",
       "<g id=\"edge12\" class=\"edge\">\n",
       "<title>5022347664&#45;&gt;5021212992</title>\n",
       "<path fill=\"none\" stroke=\"black\" d=\"M210.52,-547.84C203.21,-540.28 192.91,-529.64 184.16,-520.6\"/>\n",
       "<polygon fill=\"black\" stroke=\"black\" points=\"186.92,-518.42 177.45,-513.67 181.89,-523.29 186.92,-518.42\"/>\n",
       "</g>\n",
       "<!-- 5022351216 -->\n",
       "<g id=\"node15\" class=\"node\">\n",
       "<title>5022351216</title>\n",
       "<polygon fill=\"lightgrey\" stroke=\"black\" points=\"270,-632.12 170,-632.12 170,-611.38 270,-611.38 270,-632.12\"/>\n",
       "<text text-anchor=\"middle\" x=\"220\" y=\"-618.62\" font-family=\"monospace\" font-size=\"10.00\">AccumulateGrad</text>\n",
       "</g>\n",
       "<!-- 5022351216&#45;&gt;5022347664 -->\n",
       "<g id=\"edge13\" class=\"edge\">\n",
       "<title>5022351216&#45;&gt;5022347664</title>\n",
       "<path fill=\"none\" stroke=\"black\" d=\"M220,-610.93C220,-602.77 220,-590.88 220,-580.6\"/>\n",
       "<polygon fill=\"black\" stroke=\"black\" points=\"223.5,-580.73 220,-570.73 216.5,-580.73 223.5,-580.73\"/>\n",
       "</g>\n",
       "<!-- 4939620080 -->\n",
       "<g id=\"node16\" class=\"node\">\n",
       "<title>4939620080</title>\n",
       "<polygon fill=\"lightblue\" stroke=\"black\" points=\"264,-708 176,-708 176,-674.5 264,-674.5 264,-708\"/>\n",
       "<text text-anchor=\"middle\" x=\"220\" y=\"-694.5\" font-family=\"monospace\" font-size=\"10.00\">net.0.weight</text>\n",
       "<text text-anchor=\"middle\" x=\"220\" y=\"-681.75\" font-family=\"monospace\" font-size=\"10.00\"> (500, 50)</text>\n",
       "</g>\n",
       "<!-- 4939620080&#45;&gt;5022351216 -->\n",
       "<g id=\"edge14\" class=\"edge\">\n",
       "<title>4939620080&#45;&gt;5022351216</title>\n",
       "<path fill=\"none\" stroke=\"black\" d=\"M220,-674.25C220,-665.15 220,-653.64 220,-643.82\"/>\n",
       "<polygon fill=\"black\" stroke=\"black\" points=\"223.5,-644.09 220,-634.09 216.5,-644.09 223.5,-644.09\"/>\n",
       "</g>\n",
       "<!-- 5021298752 -->\n",
       "<g id=\"node17\" class=\"node\">\n",
       "<title>5021298752</title>\n",
       "<polygon fill=\"lightgrey\" stroke=\"black\" points=\"321,-316.5 245,-316.5 245,-295.75 321,-295.75 321,-316.5\"/>\n",
       "<text text-anchor=\"middle\" x=\"283\" y=\"-303\" font-family=\"monospace\" font-size=\"10.00\">TBackward0</text>\n",
       "</g>\n",
       "<!-- 5021298752&#45;&gt;5021290640 -->\n",
       "<g id=\"edge15\" class=\"edge\">\n",
       "<title>5021298752&#45;&gt;5021290640</title>\n",
       "<path fill=\"none\" stroke=\"black\" d=\"M262.26,-295.34C244.36,-286.89 218.26,-274.57 197.9,-264.96\"/>\n",
       "<polygon fill=\"black\" stroke=\"black\" points=\"199.46,-261.83 188.93,-260.72 196.48,-268.16 199.46,-261.83\"/>\n",
       "</g>\n",
       "<!-- 5021210496 -->\n",
       "<g id=\"node18\" class=\"node\">\n",
       "<title>5021210496</title>\n",
       "<polygon fill=\"lightgrey\" stroke=\"black\" points=\"347,-379.62 247,-379.62 247,-358.88 347,-358.88 347,-379.62\"/>\n",
       "<text text-anchor=\"middle\" x=\"297\" y=\"-366.12\" font-family=\"monospace\" font-size=\"10.00\">AccumulateGrad</text>\n",
       "</g>\n",
       "<!-- 5021210496&#45;&gt;5021298752 -->\n",
       "<g id=\"edge16\" class=\"edge\">\n",
       "<title>5021210496&#45;&gt;5021298752</title>\n",
       "<path fill=\"none\" stroke=\"black\" d=\"M294.75,-358.43C292.86,-350.18 290.1,-338.12 287.73,-327.76\"/>\n",
       "<polygon fill=\"black\" stroke=\"black\" points=\"291.18,-327.16 285.54,-318.2 284.36,-328.72 291.18,-327.16\"/>\n",
       "</g>\n",
       "<!-- 4939620480 -->\n",
       "<g id=\"node19\" class=\"node\">\n",
       "<title>4939620480</title>\n",
       "<polygon fill=\"lightblue\" stroke=\"black\" points=\"341,-455.5 253,-455.5 253,-422 341,-422 341,-455.5\"/>\n",
       "<text text-anchor=\"middle\" x=\"297\" y=\"-442\" font-family=\"monospace\" font-size=\"10.00\">net.2.weight</text>\n",
       "<text text-anchor=\"middle\" x=\"297\" y=\"-429.25\" font-family=\"monospace\" font-size=\"10.00\"> (50, 500)</text>\n",
       "</g>\n",
       "<!-- 4939620480&#45;&gt;5021210496 -->\n",
       "<g id=\"edge17\" class=\"edge\">\n",
       "<title>4939620480&#45;&gt;5021210496</title>\n",
       "<path fill=\"none\" stroke=\"black\" d=\"M297,-421.75C297,-412.65 297,-401.14 297,-391.32\"/>\n",
       "<polygon fill=\"black\" stroke=\"black\" points=\"300.5,-391.59 297,-381.59 293.5,-391.59 300.5,-391.59\"/>\n",
       "</g>\n",
       "</g>\n",
       "</svg>\n"
      ],
      "text/plain": [
       "<graphviz.graphs.Digraph at 0x12894a420>"
      ]
     },
     "metadata": {},
     "output_type": "display_data"
    }
   ],
   "source": [
    "criterion = nn.MSELoss().float()\n",
    "\n",
    "loss = criterion(outputs, y_train) / 2.0\n",
    "\n",
    "from torchviz import make_dot\n",
    "g = make_dot(loss, params=dict(net.named_parameters()))\n",
    "display(g)\n"
   ]
  },
  {
   "cell_type": "code",
   "execution_count": 18,
   "metadata": {},
   "outputs": [],
   "source": [
    "loss.backward()"
   ]
  },
  {
   "cell_type": "code",
   "execution_count": 19,
   "metadata": {},
   "outputs": [],
   "source": [
    "import torch.optim as optim\n",
    "\n",
    "lr = 0.001\n",
    "optimizer = optim.SGD(net.parameters(), lr=lr)\n",
    "\n",
    "optimizer.step()\n",
    "optimizer.zero_grad()"
   ]
  },
  {
   "cell_type": "code",
   "execution_count": 20,
   "metadata": {},
   "outputs": [
    {
     "name": "stdout",
     "output_type": "stream",
     "text": [
      "Epoch / Loss = 0 / 2.64314\n",
      "Epoch / Loss = 100 / 1.53201\n",
      "Epoch / Loss = 200 / 0.80742\n",
      "Epoch / Loss = 300 / 0.37033\n",
      "Epoch / Loss = 400 / 0.14857\n",
      "Epoch / Loss = 500 / 0.05372\n",
      "Epoch / Loss = 600 / 0.01814\n",
      "Epoch / Loss = 700 / 0.00589\n",
      "Epoch / Loss = 800 / 0.00188\n",
      "Epoch / Loss = 900 / 0.00059\n",
      "Epoch / Loss = 1000 / 0.00019\n",
      "Epoch / Loss = 1100 / 0.00006\n",
      "Epoch / Loss = 1200 / 0.00002\n",
      "Epoch / Loss = 1300 / 0.00001\n",
      "Epoch / Loss = 1400 / 0.00000\n",
      "Epoch / Loss = 1500 / 0.00000\n",
      "Epoch / Loss = 1600 / 0.00000\n",
      "Epoch / Loss = 1700 / 0.00000\n",
      "Epoch / Loss = 1800 / 0.00000\n",
      "Epoch / Loss = 1900 / 0.00000\n"
     ]
    }
   ],
   "source": [
    "num_epochs = 2000\n",
    "\n",
    "history = np.array((0, 2))\n",
    "for epoch in range(num_epochs):\n",
    "    optimizer.zero_grad()\n",
    "    outputs = net(x_train)\n",
    "    loss = criterion(outputs, y_train) / 2.0\n",
    "    loss.backward()\n",
    "    optimizer.step()\n",
    "    optimizer.zero_grad()\n",
    "    if epoch % 100 == 0:\n",
    "        history = np.vstack((history, np.array([epoch, loss.item()])))\n",
    "        print(f'Epoch / Loss = {epoch} / {loss.item():.5f}')\n"
   ]
  },
  {
   "cell_type": "code",
   "execution_count": 21,
   "metadata": {},
   "outputs": [
    {
     "data": {
      "text/plain": [
       "[<matplotlib.lines.Line2D at 0x12b585550>]"
      ]
     },
     "execution_count": 21,
     "metadata": {},
     "output_type": "execute_result"
    },
    {
     "data": {
      "image/png": "[encoded data removed]",
      "text/plain": [
       "<Figure size 640x480 with 1 Axes>"
      ]
     },
     "metadata": {},
     "output_type": "display_data"
    }
   ],
   "source": [
    "plt.plot(history[:, 0], history[:, 1], 'b')"
   ]
  },
  {
   "cell_type": "code",
   "execution_count": 22,
   "metadata": {},
   "outputs": [
    {
     "data": {
      "text/plain": [
       "<matplotlib.legend.Legend at 0x12b5c4290>"
      ]
     },
     "execution_count": 22,
     "metadata": {},
     "output_type": "execute_result"
    },
    {
     "data": {
      "image/png": "[encoded data removed]",
      "text/plain": [
       "<Figure size 640x480 with 1 Axes>"
      ]
     },
     "metadata": {},
     "output_type": "display_data"
    }
   ],
   "source": [
    "plt.scatter(x_train.data.numpy(), y_train.data.numpy(), c='r', s=10, label='trainer', alpha=0.5)\n",
    "plt.scatter(x_train.data.numpy(), outputs.data.numpy(), c='g', s=10, label='predict', alpha=0.5)\n",
    "plt.legend()"
   ]
  },
  {
   "cell_type": "code",
   "execution_count": 23,
   "metadata": {},
   "outputs": [
    {
     "data": {
      "text/plain": [
       "<matplotlib.legend.Legend at 0x12b64c920>"
      ]
     },
     "execution_count": 23,
     "metadata": {},
     "output_type": "execute_result"
    },
    {
     "data": {
      "image/png": "[encoded data removed]",
      "text/plain": [
       "<Figure size 640x480 with 1 Axes>"
      ]
     },
     "metadata": {},
     "output_type": "display_data"
    }
   ],
   "source": [
    "plt.scatter(x_test.data.numpy(), y_test.data.numpy(), c='g', s=10, label='test', alpha=0.5)\n",
    "plt.scatter(x_test.data.numpy(), net(x_test).data.numpy(), c='r', s=10, label='prediction', alpha=0.5)\n",
    "plt.legend()"
   ]
  },
  {
   "cell_type": "code",
   "execution_count": null,
   "metadata": {},
   "outputs": [],
   "source": []
  }
 ],
 "metadata": {
  "kernelspec": {
   "display_name": "Python 3",
   "language": "python",
   "name": "python3"
  },
  "language_info": {
   "codemirror_mode": {
    "name": "ipython",
    "version": 3
   },
   "file_extension": ".py",
   "mimetype": "text/x-python",
   "name": "python",
   "nbconvert_exporter": "python",
   "pygments_lexer": "ipython3",
   "version": "3.12.5"
  }
 },
 "nbformat": 4,
 "nbformat_minor": 2
}
