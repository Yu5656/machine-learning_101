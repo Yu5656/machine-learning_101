{
 "cells": [
  {
   "cell_type": "markdown",
   "metadata": {},
   "source": [
    "# ２次関数のフィッティング"
   ]
  },
  {
   "cell_type": "code",
   "execution_count": 178,
   "metadata": {},
   "outputs": [],
   "source": [
    "import numpy as np\n",
    "import matplotlib.pyplot as plt\n",
    "import japanize_matplotlib\n",
    "import torch\n",
    "\n",
    "N = 100 # 入力層の次元\n",
    "M = 500 # 隠れ層の次元\n",
    "\n",
    "np.random.seed(123)\n",
    "x = np.random.randn(N)\n",
    "y = x ** 2 + np.random.randn(N) * 0.1\n",
    "\n",
    "x = torch.tensor(x).float()\n",
    "y = torch.tensor(y).float()\n",
    "\n",
    "x_train = x[:N // 2].view(-1, 1).float()\n",
    "x_test  = x[N // 2:].view(-1, 1).float()\n",
    "y_train = y[:N // 2].view(-1, 1).float()\n",
    "y_test  = y[N // 2:].view(-1, 1).float()\n"
   ]
  },
  {
   "cell_type": "code",
   "execution_count": 179,
   "metadata": {},
   "outputs": [
    {
     "data": {
      "text/plain": [
       "<matplotlib.legend.Legend at 0x125e49a60>"
      ]
     },
     "execution_count": 179,
     "metadata": {},
     "output_type": "execute_result"
    },
    {
     "data": {
      "image/png": "[encoded data removed]",
      "text/plain": [
       "<Figure size 640x480 with 1 Axes>"
      ]
     },
     "metadata": {},
     "output_type": "display_data"
    }
   ],
   "source": [
    "plt.scatter(x_train, y_train, c='r', label='train')\n",
    "plt.scatter(x_test, y_test, c='g', marker='x', label='test')\n",
    "plt.legend()"
   ]
  },
  {
   "cell_type": "code",
   "execution_count": 180,
   "metadata": {},
   "outputs": [],
   "source": [
    "from torch import nn\n",
    "\n",
    "class Net(nn.Module):\n",
    "    def __init__(self, n_input, n_output):\n",
    "        super().__init__()\n",
    "        relu = nn.ReLU(inplace=True)\n",
    "        # これがレイヤー関数\n",
    "        self.net = nn.Sequential(\n",
    "            nn.Linear(n_input, M),\n",
    "            relu,\n",
    "            nn.Linear(M, n_output),\n",
    "            relu,\n",
    "        )\n",
    "    def forward(self, x):\n",
    "        return self.net(x)\n",
    "\n",
    "net = Net(1, 1)\n",
    "\n",
    "outputs = net(x_train)\n"
   ]
  },
  {
   "cell_type": "code",
   "execution_count": 181,
   "metadata": {},
   "outputs": [],
   "source": [
    "#for param in net.named_parameters():\n",
    "#    print(param)"
   ]
  },
  {
   "cell_type": "code",
   "execution_count": 182,
   "metadata": {},
   "outputs": [
    {
     "data": {
      "image/svg+xml": [
       "<?xml version=\"1.0\" encoding=\"UTF-8\" standalone=\"no\"?>\n",
       "<!DOCTYPE svg PUBLIC \"-//W3C//DTD SVG 1.1//EN\"\n",
       " \"http://www.w3.org/Graphics/SVG/1.1/DTD/svg11.dtd\">\n",
       "<!-- Generated by graphviz version 12.1.0 (20240811.2233)\n",
       " -->\n",
       "<!-- Pages: 1 -->\n",
       "<svg width=\"336pt\" height=\"603pt\"\n",
       " viewBox=\"0.00 0.00 336.00 602.50\" xmlns=\"http://www.w3.org/2000/svg\" xmlns:xlink=\"http://www.w3.org/1999/xlink\">\n",
       "<g id=\"graph0\" class=\"graph\" transform=\"scale(1 1) rotate(0) translate(4 598.5)\">\n",
       "<polygon fill=\"white\" stroke=\"none\" points=\"-4,4 -4,-598.5 332,-598.5 332,4 -4,4\"/>\n",
       "<!-- 4934864400 -->\n",
       "<g id=\"node1\" class=\"node\">\n",
       "<title>4934864400</title>\n",
       "<polygon fill=\"#caff70\" stroke=\"black\" points=\"192,-32.75 138,-32.75 138,0 192,0 192,-32.75\"/>\n",
       "<text text-anchor=\"middle\" x=\"165\" y=\"-7.25\" font-family=\"monospace\" font-size=\"10.00\"> ()</text>\n",
       "</g>\n",
       "<!-- 4933568208 -->\n",
       "<g id=\"node2\" class=\"node\">\n",
       "<title>4933568208</title>\n",
       "<polygon fill=\"lightgrey\" stroke=\"black\" points=\"209,-89.5 121,-89.5 121,-68.75 209,-68.75 209,-89.5\"/>\n",
       "<text text-anchor=\"middle\" x=\"165\" y=\"-76\" font-family=\"monospace\" font-size=\"10.00\">DivBackward0</text>\n",
       "</g>\n",
       "<!-- 4933568208&#45;&gt;4934864400 -->\n",
       "<g id=\"edge16\" class=\"edge\">\n",
       "<title>4933568208&#45;&gt;4934864400</title>\n",
       "<path fill=\"none\" stroke=\"black\" d=\"M165,-68.36C165,-61.89 165,-53.05 165,-44.55\"/>\n",
       "<polygon fill=\"black\" stroke=\"black\" points=\"168.5,-44.55 165,-34.55 161.5,-44.55 168.5,-44.55\"/>\n",
       "</g>\n",
       "<!-- 4934626288 -->\n",
       "<g id=\"node3\" class=\"node\">\n",
       "<title>4934626288</title>\n",
       "<polygon fill=\"lightgrey\" stroke=\"black\" points=\"221,-146.25 109,-146.25 109,-125.5 221,-125.5 221,-146.25\"/>\n",
       "<text text-anchor=\"middle\" x=\"165\" y=\"-132.75\" font-family=\"monospace\" font-size=\"10.00\">MseLossBackward0</text>\n",
       "</g>\n",
       "<!-- 4934626288&#45;&gt;4933568208 -->\n",
       "<g id=\"edge1\" class=\"edge\">\n",
       "<title>4934626288&#45;&gt;4933568208</title>\n",
       "<path fill=\"none\" stroke=\"black\" d=\"M165,-125.09C165,-118.47 165,-109.47 165,-101.27\"/>\n",
       "<polygon fill=\"black\" stroke=\"black\" points=\"168.5,-101.34 165,-91.34 161.5,-101.34 168.5,-101.34\"/>\n",
       "</g>\n",
       "<!-- 4934627392 -->\n",
       "<g id=\"node4\" class=\"node\">\n",
       "<title>4934627392</title>\n",
       "<polygon fill=\"lightgrey\" stroke=\"black\" points=\"212,-203 118,-203 118,-182.25 212,-182.25 212,-203\"/>\n",
       "<text text-anchor=\"middle\" x=\"165\" y=\"-189.5\" font-family=\"monospace\" font-size=\"10.00\">ReluBackward0</text>\n",
       "</g>\n",
       "<!-- 4934627392&#45;&gt;4934626288 -->\n",
       "<g id=\"edge2\" class=\"edge\">\n",
       "<title>4934627392&#45;&gt;4934626288</title>\n",
       "<path fill=\"none\" stroke=\"black\" d=\"M165,-181.84C165,-175.22 165,-166.22 165,-158.02\"/>\n",
       "<polygon fill=\"black\" stroke=\"black\" points=\"168.5,-158.09 165,-148.09 161.5,-158.09 168.5,-158.09\"/>\n",
       "</g>\n",
       "<!-- 4934615776 -->\n",
       "<g id=\"node5\" class=\"node\">\n",
       "<title>4934615776</title>\n",
       "<polygon fill=\"lightgrey\" stroke=\"black\" points=\"215,-259.75 115,-259.75 115,-239 215,-239 215,-259.75\"/>\n",
       "<text text-anchor=\"middle\" x=\"165\" y=\"-246.25\" font-family=\"monospace\" font-size=\"10.00\">AddmmBackward0</text>\n",
       "</g>\n",
       "<!-- 4934615776&#45;&gt;4934627392 -->\n",
       "<g id=\"edge3\" class=\"edge\">\n",
       "<title>4934615776&#45;&gt;4934627392</title>\n",
       "<path fill=\"none\" stroke=\"black\" d=\"M165,-238.59C165,-231.97 165,-222.97 165,-214.77\"/>\n",
       "<polygon fill=\"black\" stroke=\"black\" points=\"168.5,-214.84 165,-204.84 161.5,-214.84 168.5,-214.84\"/>\n",
       "</g>\n",
       "<!-- 4934628016 -->\n",
       "<g id=\"node6\" class=\"node\">\n",
       "<title>4934628016</title>\n",
       "<polygon fill=\"lightgrey\" stroke=\"black\" points=\"100,-316.5 0,-316.5 0,-295.75 100,-295.75 100,-316.5\"/>\n",
       "<text text-anchor=\"middle\" x=\"50\" y=\"-303\" font-family=\"monospace\" font-size=\"10.00\">AccumulateGrad</text>\n",
       "</g>\n",
       "<!-- 4934628016&#45;&gt;4934615776 -->\n",
       "<g id=\"edge4\" class=\"edge\">\n",
       "<title>4934628016&#45;&gt;4934615776</title>\n",
       "<path fill=\"none\" stroke=\"black\" d=\"M70.56,-295.34C88.3,-286.89 114.18,-274.57 134.37,-264.96\"/>\n",
       "<polygon fill=\"black\" stroke=\"black\" points=\"135.73,-268.19 143.25,-260.73 132.72,-261.87 135.73,-268.19\"/>\n",
       "</g>\n",
       "<!-- 4934123136 -->\n",
       "<g id=\"node7\" class=\"node\">\n",
       "<title>4934123136</title>\n",
       "<polygon fill=\"lightblue\" stroke=\"black\" points=\"88,-386 12,-386 12,-352.5 88,-352.5 88,-386\"/>\n",
       "<text text-anchor=\"middle\" x=\"50\" y=\"-372.5\" font-family=\"monospace\" font-size=\"10.00\">net.2.bias</text>\n",
       "<text text-anchor=\"middle\" x=\"50\" y=\"-359.75\" font-family=\"monospace\" font-size=\"10.00\"> (1)</text>\n",
       "</g>\n",
       "<!-- 4934123136&#45;&gt;4934628016 -->\n",
       "<g id=\"edge5\" class=\"edge\">\n",
       "<title>4934123136&#45;&gt;4934628016</title>\n",
       "<path fill=\"none\" stroke=\"black\" d=\"M50,-352.19C50,-344.85 50,-336.07 50,-328.21\"/>\n",
       "<polygon fill=\"black\" stroke=\"black\" points=\"53.5,-328.48 50,-318.48 46.5,-328.48 53.5,-328.48\"/>\n",
       "</g>\n",
       "<!-- 4934626768 -->\n",
       "<g id=\"node8\" class=\"node\">\n",
       "<title>4934626768</title>\n",
       "<polygon fill=\"lightgrey\" stroke=\"black\" points=\"212,-316.5 118,-316.5 118,-295.75 212,-295.75 212,-316.5\"/>\n",
       "<text text-anchor=\"middle\" x=\"165\" y=\"-303\" font-family=\"monospace\" font-size=\"10.00\">ReluBackward0</text>\n",
       "</g>\n",
       "<!-- 4934626768&#45;&gt;4934615776 -->\n",
       "<g id=\"edge6\" class=\"edge\">\n",
       "<title>4934626768&#45;&gt;4934615776</title>\n",
       "<path fill=\"none\" stroke=\"black\" d=\"M165,-295.34C165,-288.72 165,-279.72 165,-271.52\"/>\n",
       "<polygon fill=\"black\" stroke=\"black\" points=\"168.5,-271.59 165,-261.59 161.5,-271.59 168.5,-271.59\"/>\n",
       "</g>\n",
       "<!-- 4934626672 -->\n",
       "<g id=\"node9\" class=\"node\">\n",
       "<title>4934626672</title>\n",
       "<polygon fill=\"lightgrey\" stroke=\"black\" points=\"210,-379.62 110,-379.62 110,-358.88 210,-358.88 210,-379.62\"/>\n",
       "<text text-anchor=\"middle\" x=\"160\" y=\"-366.12\" font-family=\"monospace\" font-size=\"10.00\">AddmmBackward0</text>\n",
       "</g>\n",
       "<!-- 4934626672&#45;&gt;4934626768 -->\n",
       "<g id=\"edge7\" class=\"edge\">\n",
       "<title>4934626672&#45;&gt;4934626768</title>\n",
       "<path fill=\"none\" stroke=\"black\" d=\"M160.8,-358.43C161.47,-350.27 162.44,-338.38 163.28,-328.1\"/>\n",
       "<polygon fill=\"black\" stroke=\"black\" points=\"166.76,-328.48 164.09,-318.23 159.79,-327.91 166.76,-328.48\"/>\n",
       "</g>\n",
       "<!-- 4934628976 -->\n",
       "<g id=\"node10\" class=\"node\">\n",
       "<title>4934628976</title>\n",
       "<polygon fill=\"lightgrey\" stroke=\"black\" points=\"113,-449.12 13,-449.12 13,-428.38 113,-428.38 113,-449.12\"/>\n",
       "<text text-anchor=\"middle\" x=\"63\" y=\"-435.62\" font-family=\"monospace\" font-size=\"10.00\">AccumulateGrad</text>\n",
       "</g>\n",
       "<!-- 4934628976&#45;&gt;4934626672 -->\n",
       "<g id=\"edge8\" class=\"edge\">\n",
       "<title>4934628976&#45;&gt;4934626672</title>\n",
       "<path fill=\"none\" stroke=\"black\" d=\"M76.9,-428.08C92.44,-417.26 117.87,-399.57 136.52,-386.59\"/>\n",
       "<polygon fill=\"black\" stroke=\"black\" points=\"138.36,-389.57 144.57,-380.99 134.36,-383.83 138.36,-389.57\"/>\n",
       "</g>\n",
       "<!-- 4934112496 -->\n",
       "<g id=\"node11\" class=\"node\">\n",
       "<title>4934112496</title>\n",
       "<polygon fill=\"lightblue\" stroke=\"black\" points=\"101,-525 25,-525 25,-491.5 101,-491.5 101,-525\"/>\n",
       "<text text-anchor=\"middle\" x=\"63\" y=\"-511.5\" font-family=\"monospace\" font-size=\"10.00\">net.0.bias</text>\n",
       "<text text-anchor=\"middle\" x=\"63\" y=\"-498.75\" font-family=\"monospace\" font-size=\"10.00\"> (500)</text>\n",
       "</g>\n",
       "<!-- 4934112496&#45;&gt;4934628976 -->\n",
       "<g id=\"edge9\" class=\"edge\">\n",
       "<title>4934112496&#45;&gt;4934628976</title>\n",
       "<path fill=\"none\" stroke=\"black\" d=\"M63,-491.25C63,-482.15 63,-470.64 63,-460.82\"/>\n",
       "<polygon fill=\"black\" stroke=\"black\" points=\"66.5,-461.09 63,-451.09 59.5,-461.09 66.5,-461.09\"/>\n",
       "</g>\n",
       "<!-- 4934624656 -->\n",
       "<g id=\"node12\" class=\"node\">\n",
       "<title>4934624656</title>\n",
       "<polygon fill=\"lightgrey\" stroke=\"black\" points=\"207,-449.12 131,-449.12 131,-428.38 207,-428.38 207,-449.12\"/>\n",
       "<text text-anchor=\"middle\" x=\"169\" y=\"-435.62\" font-family=\"monospace\" font-size=\"10.00\">TBackward0</text>\n",
       "</g>\n",
       "<!-- 4934624656&#45;&gt;4934626672 -->\n",
       "<g id=\"edge10\" class=\"edge\">\n",
       "<title>4934624656&#45;&gt;4934626672</title>\n",
       "<path fill=\"none\" stroke=\"black\" d=\"M167.71,-428.08C166.43,-418.46 164.42,-403.38 162.77,-391.04\"/>\n",
       "<polygon fill=\"black\" stroke=\"black\" points=\"166.28,-390.85 161.49,-381.4 159.34,-391.78 166.28,-390.85\"/>\n",
       "</g>\n",
       "<!-- 4934626336 -->\n",
       "<g id=\"node13\" class=\"node\">\n",
       "<title>4934626336</title>\n",
       "<polygon fill=\"lightgrey\" stroke=\"black\" points=\"219,-518.62 119,-518.62 119,-497.88 219,-497.88 219,-518.62\"/>\n",
       "<text text-anchor=\"middle\" x=\"169\" y=\"-505.12\" font-family=\"monospace\" font-size=\"10.00\">AccumulateGrad</text>\n",
       "</g>\n",
       "<!-- 4934626336&#45;&gt;4934624656 -->\n",
       "<g id=\"edge11\" class=\"edge\">\n",
       "<title>4934626336&#45;&gt;4934624656</title>\n",
       "<path fill=\"none\" stroke=\"black\" d=\"M169,-497.58C169,-487.96 169,-472.88 169,-460.54\"/>\n",
       "<polygon fill=\"black\" stroke=\"black\" points=\"172.5,-460.92 169,-450.92 165.5,-460.92 172.5,-460.92\"/>\n",
       "</g>\n",
       "<!-- 4932831344 -->\n",
       "<g id=\"node14\" class=\"node\">\n",
       "<title>4932831344</title>\n",
       "<polygon fill=\"lightblue\" stroke=\"black\" points=\"213,-594.5 125,-594.5 125,-561 213,-561 213,-594.5\"/>\n",
       "<text text-anchor=\"middle\" x=\"169\" y=\"-581\" font-family=\"monospace\" font-size=\"10.00\">net.0.weight</text>\n",
       "<text text-anchor=\"middle\" x=\"169\" y=\"-568.25\" font-family=\"monospace\" font-size=\"10.00\"> (500, 1)</text>\n",
       "</g>\n",
       "<!-- 4932831344&#45;&gt;4934626336 -->\n",
       "<g id=\"edge12\" class=\"edge\">\n",
       "<title>4932831344&#45;&gt;4934626336</title>\n",
       "<path fill=\"none\" stroke=\"black\" d=\"M169,-560.75C169,-551.65 169,-540.14 169,-530.32\"/>\n",
       "<polygon fill=\"black\" stroke=\"black\" points=\"172.5,-530.59 169,-520.59 165.5,-530.59 172.5,-530.59\"/>\n",
       "</g>\n",
       "<!-- 4934631184 -->\n",
       "<g id=\"node15\" class=\"node\">\n",
       "<title>4934631184</title>\n",
       "<polygon fill=\"lightgrey\" stroke=\"black\" points=\"311,-316.5 235,-316.5 235,-295.75 311,-295.75 311,-316.5\"/>\n",
       "<text text-anchor=\"middle\" x=\"273\" y=\"-303\" font-family=\"monospace\" font-size=\"10.00\">TBackward0</text>\n",
       "</g>\n",
       "<!-- 4934631184&#45;&gt;4934615776 -->\n",
       "<g id=\"edge13\" class=\"edge\">\n",
       "<title>4934631184&#45;&gt;4934615776</title>\n",
       "<path fill=\"none\" stroke=\"black\" d=\"M253.69,-295.34C237.18,-286.97 213.17,-274.79 194.29,-265.22\"/>\n",
       "<polygon fill=\"black\" stroke=\"black\" points=\"195.99,-262.16 185.49,-260.76 192.83,-268.41 195.99,-262.16\"/>\n",
       "</g>\n",
       "<!-- 4934628640 -->\n",
       "<g id=\"node16\" class=\"node\">\n",
       "<title>4934628640</title>\n",
       "<polygon fill=\"lightgrey\" stroke=\"black\" points=\"328,-379.62 228,-379.62 228,-358.88 328,-358.88 328,-379.62\"/>\n",
       "<text text-anchor=\"middle\" x=\"278\" y=\"-366.12\" font-family=\"monospace\" font-size=\"10.00\">AccumulateGrad</text>\n",
       "</g>\n",
       "<!-- 4934628640&#45;&gt;4934631184 -->\n",
       "<g id=\"edge14\" class=\"edge\">\n",
       "<title>4934628640&#45;&gt;4934631184</title>\n",
       "<path fill=\"none\" stroke=\"black\" d=\"M277.2,-358.43C276.53,-350.27 275.56,-338.38 274.72,-328.1\"/>\n",
       "<polygon fill=\"black\" stroke=\"black\" points=\"278.21,-327.91 273.91,-318.23 271.24,-328.48 278.21,-327.91\"/>\n",
       "</g>\n",
       "<!-- 4934113056 -->\n",
       "<g id=\"node17\" class=\"node\">\n",
       "<title>4934113056</title>\n",
       "<polygon fill=\"lightblue\" stroke=\"black\" points=\"322,-455.5 234,-455.5 234,-422 322,-422 322,-455.5\"/>\n",
       "<text text-anchor=\"middle\" x=\"278\" y=\"-442\" font-family=\"monospace\" font-size=\"10.00\">net.2.weight</text>\n",
       "<text text-anchor=\"middle\" x=\"278\" y=\"-429.25\" font-family=\"monospace\" font-size=\"10.00\"> (1, 500)</text>\n",
       "</g>\n",
       "<!-- 4934113056&#45;&gt;4934628640 -->\n",
       "<g id=\"edge15\" class=\"edge\">\n",
       "<title>4934113056&#45;&gt;4934628640</title>\n",
       "<path fill=\"none\" stroke=\"black\" d=\"M278,-421.75C278,-412.65 278,-401.14 278,-391.32\"/>\n",
       "<polygon fill=\"black\" stroke=\"black\" points=\"281.5,-391.59 278,-381.59 274.5,-391.59 281.5,-391.59\"/>\n",
       "</g>\n",
       "</g>\n",
       "</svg>\n"
      ],
      "text/plain": [
       "<graphviz.graphs.Digraph at 0x125dd36e0>"
      ]
     },
     "metadata": {},
     "output_type": "display_data"
    }
   ],
   "source": [
    "criterion = nn.MSELoss().float()\n",
    "\n",
    "loss = criterion(outputs, y_train) / 2.0\n",
    "\n",
    "from torchviz import make_dot\n",
    "g = make_dot(loss, params=dict(net.named_parameters()))\n",
    "display(g)\n"
   ]
  },
  {
   "cell_type": "code",
   "execution_count": 183,
   "metadata": {},
   "outputs": [],
   "source": [
    "loss.backward()"
   ]
  },
  {
   "cell_type": "code",
   "execution_count": 184,
   "metadata": {},
   "outputs": [],
   "source": [
    "import torch.optim as optim\n",
    "\n",
    "lr = 0.001\n",
    "optimizer = optim.SGD(net.parameters(), lr=lr, momentum=0.9)\n",
    "\n",
    "optimizer.step()\n",
    "optimizer.zero_grad()"
   ]
  },
  {
   "cell_type": "code",
   "execution_count": 185,
   "metadata": {},
   "outputs": [
    {
     "name": "stdout",
     "output_type": "stream",
     "text": [
      "Epoch / Loss = 0 / 2.43351\n",
      "Epoch / Loss = 200 / 0.02531\n",
      "Epoch / Loss = 400 / 0.02045\n",
      "Epoch / Loss = 600 / 0.01513\n",
      "Epoch / Loss = 800 / 0.01187\n"
     ]
    }
   ],
   "source": [
    "num_epochs = 1000\n",
    "\n",
    "history = np.array((0, 2))\n",
    "for epoch in range(num_epochs):\n",
    "    optimizer.zero_grad()\n",
    "    outputs = net(x_train)\n",
    "    loss = criterion(outputs, y_train) / 2.0\n",
    "    loss.backward()\n",
    "    optimizer.step()\n",
    "    optimizer.zero_grad()\n",
    "    if epoch % 200 == 0:\n",
    "        history = np.vstack((history, np.array([epoch, loss.item()])))\n",
    "        print(f'Epoch / Loss = {epoch} / {loss.item():.5f}')\n"
   ]
  },
  {
   "cell_type": "code",
   "execution_count": 186,
   "metadata": {},
   "outputs": [
    {
     "data": {
      "text/plain": [
       "[<matplotlib.lines.Line2D at 0x126237290>]"
      ]
     },
     "execution_count": 186,
     "metadata": {},
     "output_type": "execute_result"
    },
    {
     "data": {
      "image/png": "[encoded data removed]",
      "text/plain": [
       "<Figure size 640x480 with 1 Axes>"
      ]
     },
     "metadata": {},
     "output_type": "display_data"
    }
   ],
   "source": [
    "plt.plot(history[:, 0], history[:, 1], 'b')"
   ]
  },
  {
   "cell_type": "code",
   "execution_count": 187,
   "metadata": {},
   "outputs": [
    {
     "data": {
      "text/plain": [
       "<matplotlib.legend.Legend at 0x1262076b0>"
      ]
     },
     "execution_count": 187,
     "metadata": {},
     "output_type": "execute_result"
    },
    {
     "data": {
      "image/png": "[encoded data removed]",
      "text/plain": [
       "<Figure size 640x480 with 1 Axes>"
      ]
     },
     "metadata": {},
     "output_type": "display_data"
    }
   ],
   "source": [
    "plt.scatter(x_train.data.numpy(), y_train.data.numpy(), c='r', s=10, label='train', alpha=0.5)\n",
    "plt.scatter(x_train.data.numpy(), net(x_train).data.numpy(), c='g', s=10, label='predict', alpha=0.5)\n",
    "plt.legend()"
   ]
  },
  {
   "cell_type": "code",
   "execution_count": 188,
   "metadata": {},
   "outputs": [
    {
     "data": {
      "text/plain": [
       "<matplotlib.legend.Legend at 0x126310560>"
      ]
     },
     "execution_count": 188,
     "metadata": {},
     "output_type": "execute_result"
    },
    {
     "data": {
      "image/png": "[encoded data removed]",
      "text/plain": [
       "<Figure size 640x480 with 1 Axes>"
      ]
     },
     "metadata": {},
     "output_type": "display_data"
    }
   ],
   "source": [
    "plt.scatter(x_test.data.numpy(), y_test.data.numpy(), c='r', s=10, label='test', alpha=0.5)\n",
    "plt.scatter(x_test.data.numpy(), net(x_test).data.numpy(), c='g', s=10, label='prediction', alpha=0.5)\n",
    "plt.legend()"
   ]
  },
  {
   "cell_type": "code",
   "execution_count": null,
   "metadata": {},
   "outputs": [],
   "source": []
  }
 ],
 "metadata": {
  "kernelspec": {
   "display_name": "Python 3",
   "language": "python",
   "name": "python3"
  },
  "language_info": {
   "codemirror_mode": {
    "name": "ipython",
    "version": 3
   },
   "file_extension": ".py",
   "mimetype": "text/x-python",
   "name": "python",
   "nbconvert_exporter": "python",
   "pygments_lexer": "ipython3",
   "version": "3.12.5"
  }
 },
 "nbformat": 4,
 "nbformat_minor": 2
}
