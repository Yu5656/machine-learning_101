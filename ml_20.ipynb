{
 "cells": [
  {
   "cell_type": "markdown",
   "metadata": {},
   "source": [
    "## 自然言語処理\n",
    "\n",
    "### プロンプトエンジニアリング\n",
    "\n",
    "### Transformersモデル\n",
    "\n",
    "### LangChainを使ったパイプライン処理\n",
    "\n",
    "### Retrieval-Augumented Generation (RAG) \n",
    "\n",
    "### 言語検索（[ElasticSearch](https://www.elastic.co/elasticsearch)/[OpenSearch](https://opensearch.org/)）\n",
    "\n",
    "#### [ベクトルデータベース](https://www.elastic.co/jp/what-is/vector-database)\n"
   ]
  },
  {
   "cell_type": "code",
   "execution_count": null,
   "metadata": {},
   "outputs": [],
   "source": []
  }
 ],
 "metadata": {
  "kernelspec": {
   "display_name": "Python 3",
   "language": "python",
   "name": "python3"
  },
  "language_info": {
   "name": "python",
   "version": "3.12.5"
  }
 },
 "nbformat": 4,
 "nbformat_minor": 2
}
