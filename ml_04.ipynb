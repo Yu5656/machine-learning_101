{
 "cells": [
  {
   "cell_type": "markdown",
   "metadata": {},
   "source": [
    "## 単回帰モデル"
   ]
  },
  {
   "cell_type": "code",
   "execution_count": 32,
   "metadata": {},
   "outputs": [],
   "source": [
    "import torch\n",
    "import torch.nn as nn\n",
    "import numpy as np\n",
    "import matplotlib.pyplot as plt"
   ]
  },
  {
   "cell_type": "code",
   "execution_count": 42,
   "metadata": {},
   "outputs": [
    {
     "data": {
      "text/plain": [
       "<matplotlib.collections.PathCollection at 0x1eeb92ea0c0>"
      ]
     },
     "execution_count": 42,
     "metadata": {},
     "output_type": "execute_result"
    },
    {
     "data": {
      "image/png": "[encoded data removed]",
      "text/plain": [
       "<Figure size 640x480 with 1 Axes>"
      ]
     },
     "metadata": {},
     "output_type": "display_data"
    }
   ],
   "source": [
    "class Net(nn.Module):\n",
    "    def __init__(self, n_input, n_output):\n",
    "        super().__init__()\n",
    "        self.l1 = nn.Linear(n_input, n_output, bias=True)\n",
    "        #nn.init.zeros_(self.l1.weight)\n",
    "        #nn.init.zeros_(self.l1.bias)\n",
    "\n",
    "    def forward(self, x):\n",
    "        x1 = self.l1(x)\n",
    "        return x1\n",
    "\n",
    "W = 50\n",
    "B = 1\n",
    "\n",
    "x = np.arange(100) + np.random.randn(100)\n",
    "y = W * x + B + 500 * np.random.randn(100)\n",
    "\n",
    "inputs = torch.tensor((x - x.min()) / (x.max() - x.min())).view(-1, 1).float()\n",
    "labels = torch.tensor((y - y.min()) / (y.max() - y.min())).view(-1, 1).float()\n",
    "n_input = 1\n",
    "n_output = 1\n",
    "\n",
    "net = Net(n_input, n_output)\n",
    "outputs = net(inputs)\n",
    "\n",
    "plt.scatter(inputs, labels, c='r')"
   ]
  },
  {
   "cell_type": "code",
   "execution_count": 43,
   "metadata": {},
   "outputs": [
    {
     "name": "stdout",
     "output_type": "stream",
     "text": [
      "('l1.weight', Parameter containing:\n",
      "tensor([[0.1612]], requires_grad=True))\n",
      "('l1.bias', Parameter containing:\n",
      "tensor([-0.5721], requires_grad=True))\n"
     ]
    }
   ],
   "source": [
    "for param in net.named_parameters():\n",
    "    print(param)"
   ]
  },
  {
   "cell_type": "code",
   "execution_count": 44,
   "metadata": {},
   "outputs": [],
   "source": [
    "criterion = nn.MSELoss()\n",
    "loss = criterion(outputs, labels)\n",
    "loss.backward()\n"
   ]
  },
  {
   "cell_type": "code",
   "execution_count": 45,
   "metadata": {},
   "outputs": [
    {
     "data": {
      "image/svg+xml": [
       "<?xml version=\"1.0\" encoding=\"UTF-8\" standalone=\"no\"?>\n",
       "<!DOCTYPE svg PUBLIC \"-//W3C//DTD SVG 1.1//EN\"\n",
       " \"http://www.w3.org/Graphics/SVG/1.1/DTD/svg11.dtd\">\n",
       "<!-- Generated by graphviz version 12.1.0 (20240811.2233)\n",
       " -->\n",
       "<!-- Pages: 1 -->\n",
       "<svg width=\"214pt\" height=\"350pt\"\n",
       " viewBox=\"0.00 0.00 214.00 350.00\" xmlns=\"http://www.w3.org/2000/svg\" xmlns:xlink=\"http://www.w3.org/1999/xlink\">\n",
       "<g id=\"graph0\" class=\"graph\" transform=\"scale(1 1) rotate(0) translate(4 346)\">\n",
       "<polygon fill=\"white\" stroke=\"none\" points=\"-4,4 -4,-346 210,-346 210,4 -4,4\"/>\n",
       "<!-- 2124858155776 -->\n",
       "<g id=\"node1\" class=\"node\">\n",
       "<title>2124858155776</title>\n",
       "<polygon fill=\"#caff70\" stroke=\"black\" points=\"130,-32.75 76,-32.75 76,0 130,0 130,-32.75\"/>\n",
       "<text text-anchor=\"middle\" x=\"103\" y=\"-7.25\" font-family=\"monospace\" font-size=\"10.00\"> ()</text>\n",
       "</g>\n",
       "<!-- 2124861987360 -->\n",
       "<g id=\"node2\" class=\"node\">\n",
       "<title>2124861987360</title>\n",
       "<polygon fill=\"lightgrey\" stroke=\"black\" points=\"159,-89.5 47,-89.5 47,-68.75 159,-68.75 159,-89.5\"/>\n",
       "<text text-anchor=\"middle\" x=\"103\" y=\"-76\" font-family=\"monospace\" font-size=\"10.00\">MseLossBackward0</text>\n",
       "</g>\n",
       "<!-- 2124861987360&#45;&gt;2124858155776 -->\n",
       "<g id=\"edge7\" class=\"edge\">\n",
       "<title>2124861987360&#45;&gt;2124858155776</title>\n",
       "<path fill=\"none\" stroke=\"black\" d=\"M103,-68.36C103,-61.89 103,-53.05 103,-44.55\"/>\n",
       "<polygon fill=\"black\" stroke=\"black\" points=\"106.5,-44.55 103,-34.55 99.5,-44.55 106.5,-44.55\"/>\n",
       "</g>\n",
       "<!-- 2124861008784 -->\n",
       "<g id=\"node3\" class=\"node\">\n",
       "<title>2124861008784</title>\n",
       "<polygon fill=\"lightgrey\" stroke=\"black\" points=\"153,-146.25 53,-146.25 53,-125.5 153,-125.5 153,-146.25\"/>\n",
       "<text text-anchor=\"middle\" x=\"103\" y=\"-132.75\" font-family=\"monospace\" font-size=\"10.00\">AddmmBackward0</text>\n",
       "</g>\n",
       "<!-- 2124861008784&#45;&gt;2124861987360 -->\n",
       "<g id=\"edge1\" class=\"edge\">\n",
       "<title>2124861008784&#45;&gt;2124861987360</title>\n",
       "<path fill=\"none\" stroke=\"black\" d=\"M103,-125.09C103,-118.47 103,-109.47 103,-101.27\"/>\n",
       "<polygon fill=\"black\" stroke=\"black\" points=\"106.5,-101.34 103,-91.34 99.5,-101.34 106.5,-101.34\"/>\n",
       "</g>\n",
       "<!-- 2124858284576 -->\n",
       "<g id=\"node4\" class=\"node\">\n",
       "<title>2124858284576</title>\n",
       "<polygon fill=\"lightgrey\" stroke=\"black\" points=\"100,-203 0,-203 0,-182.25 100,-182.25 100,-203\"/>\n",
       "<text text-anchor=\"middle\" x=\"50\" y=\"-189.5\" font-family=\"monospace\" font-size=\"10.00\">AccumulateGrad</text>\n",
       "</g>\n",
       "<!-- 2124858284576&#45;&gt;2124861008784 -->\n",
       "<g id=\"edge2\" class=\"edge\">\n",
       "<title>2124858284576&#45;&gt;2124861008784</title>\n",
       "<path fill=\"none\" stroke=\"black\" d=\"M59.48,-181.84C66.79,-174.28 77.09,-163.64 85.84,-154.6\"/>\n",
       "<polygon fill=\"black\" stroke=\"black\" points=\"88.11,-157.29 92.55,-147.67 83.08,-152.42 88.11,-157.29\"/>\n",
       "</g>\n",
       "<!-- 2124864093904 -->\n",
       "<g id=\"node5\" class=\"node\">\n",
       "<title>2124864093904</title>\n",
       "<polygon fill=\"lightblue\" stroke=\"black\" points=\"79,-272.5 21,-272.5 21,-239 79,-239 79,-272.5\"/>\n",
       "<text text-anchor=\"middle\" x=\"50\" y=\"-259\" font-family=\"monospace\" font-size=\"10.00\">l1.bias</text>\n",
       "<text text-anchor=\"middle\" x=\"50\" y=\"-246.25\" font-family=\"monospace\" font-size=\"10.00\"> (1)</text>\n",
       "</g>\n",
       "<!-- 2124864093904&#45;&gt;2124858284576 -->\n",
       "<g id=\"edge3\" class=\"edge\">\n",
       "<title>2124864093904&#45;&gt;2124858284576</title>\n",
       "<path fill=\"none\" stroke=\"black\" d=\"M50,-238.69C50,-231.35 50,-222.57 50,-214.71\"/>\n",
       "<polygon fill=\"black\" stroke=\"black\" points=\"53.5,-214.98 50,-204.98 46.5,-214.98 53.5,-214.98\"/>\n",
       "</g>\n",
       "<!-- 2124861987168 -->\n",
       "<g id=\"node6\" class=\"node\">\n",
       "<title>2124861987168</title>\n",
       "<polygon fill=\"lightgrey\" stroke=\"black\" points=\"194,-203 118,-203 118,-182.25 194,-182.25 194,-203\"/>\n",
       "<text text-anchor=\"middle\" x=\"156\" y=\"-189.5\" font-family=\"monospace\" font-size=\"10.00\">TBackward0</text>\n",
       "</g>\n",
       "<!-- 2124861987168&#45;&gt;2124861008784 -->\n",
       "<g id=\"edge4\" class=\"edge\">\n",
       "<title>2124861987168&#45;&gt;2124861008784</title>\n",
       "<path fill=\"none\" stroke=\"black\" d=\"M146.52,-181.84C139.21,-174.28 128.91,-163.64 120.16,-154.6\"/>\n",
       "<polygon fill=\"black\" stroke=\"black\" points=\"122.92,-152.42 113.45,-147.67 117.89,-157.29 122.92,-152.42\"/>\n",
       "</g>\n",
       "<!-- 2124864288320 -->\n",
       "<g id=\"node7\" class=\"node\">\n",
       "<title>2124864288320</title>\n",
       "<polygon fill=\"lightgrey\" stroke=\"black\" points=\"206,-266.12 106,-266.12 106,-245.38 206,-245.38 206,-266.12\"/>\n",
       "<text text-anchor=\"middle\" x=\"156\" y=\"-252.62\" font-family=\"monospace\" font-size=\"10.00\">AccumulateGrad</text>\n",
       "</g>\n",
       "<!-- 2124864288320&#45;&gt;2124861987168 -->\n",
       "<g id=\"edge5\" class=\"edge\">\n",
       "<title>2124864288320&#45;&gt;2124861987168</title>\n",
       "<path fill=\"none\" stroke=\"black\" d=\"M156,-244.93C156,-236.77 156,-224.88 156,-214.6\"/>\n",
       "<polygon fill=\"black\" stroke=\"black\" points=\"159.5,-214.73 156,-204.73 152.5,-214.73 159.5,-214.73\"/>\n",
       "</g>\n",
       "<!-- 2124864090784 -->\n",
       "<g id=\"node8\" class=\"node\">\n",
       "<title>2124864090784</title>\n",
       "<polygon fill=\"lightblue\" stroke=\"black\" points=\"191,-342 121,-342 121,-308.5 191,-308.5 191,-342\"/>\n",
       "<text text-anchor=\"middle\" x=\"156\" y=\"-328.5\" font-family=\"monospace\" font-size=\"10.00\">l1.weight</text>\n",
       "<text text-anchor=\"middle\" x=\"156\" y=\"-315.75\" font-family=\"monospace\" font-size=\"10.00\"> (1, 1)</text>\n",
       "</g>\n",
       "<!-- 2124864090784&#45;&gt;2124864288320 -->\n",
       "<g id=\"edge6\" class=\"edge\">\n",
       "<title>2124864090784&#45;&gt;2124864288320</title>\n",
       "<path fill=\"none\" stroke=\"black\" d=\"M156,-308.25C156,-299.15 156,-287.64 156,-277.82\"/>\n",
       "<polygon fill=\"black\" stroke=\"black\" points=\"159.5,-278.09 156,-268.09 152.5,-278.09 159.5,-278.09\"/>\n",
       "</g>\n",
       "</g>\n",
       "</svg>\n"
      ],
      "text/plain": [
       "<graphviz.graphs.Digraph at 0x1eebbc0ef30>"
      ]
     },
     "metadata": {},
     "output_type": "display_data"
    }
   ],
   "source": [
    "import torch.optim as optim\n",
    "from torchviz import make_dot\n",
    "\n",
    "lr = 0.0001\n",
    "optimizer = optim.SGD(net.parameters(), lr=lr, momentum=0.9)\n",
    "g = make_dot(loss, params=dict(net.named_parameters()))\n",
    "display(g)"
   ]
  },
  {
   "cell_type": "code",
   "execution_count": 46,
   "metadata": {},
   "outputs": [],
   "source": [
    "optimizer.step()\n",
    "optimizer.zero_grad()"
   ]
  },
  {
   "cell_type": "code",
   "execution_count": 47,
   "metadata": {},
   "outputs": [
    {
     "name": "stdout",
     "output_type": "stream",
     "text": [
      "Epoch / Loss = 0 / 0.519\n",
      "Epoch / Loss = 200 / 0.319\n",
      "Epoch / Loss = 400 / 0.193\n",
      "Epoch / Loss = 600 / 0.118\n",
      "Epoch / Loss = 800 / 0.073\n",
      "Epoch / Loss = 1000 / 0.046\n",
      "Epoch / Loss = 1200 / 0.030\n",
      "Epoch / Loss = 1400 / 0.020\n",
      "Epoch / Loss = 1600 / 0.014\n",
      "Epoch / Loss = 1800 / 0.010\n"
     ]
    }
   ],
   "source": [
    "num_epochs = 2000\n",
    "\n",
    "history = np.array((0, 2))\n",
    "for epoch in range(num_epochs):\n",
    "    optimizer.zero_grad()\n",
    "    outputs = net(inputs)\n",
    "    loss = criterion(outputs, labels) / 2.0\n",
    "    loss.backward()\n",
    "    optimizer.step()\n",
    "    optimizer.zero_grad()\n",
    "    if epoch % 200 == 0:\n",
    "        history = np.vstack((history, np.array([epoch, loss.item()])))\n",
    "        print(f'Epoch / Loss = {epoch} / {loss.item():.3f}')\n"
   ]
  },
  {
   "cell_type": "code",
   "execution_count": 48,
   "metadata": {},
   "outputs": [
    {
     "data": {
      "text/plain": [
       "[<matplotlib.lines.Line2D at 0x1eebbc7d4c0>]"
      ]
     },
     "execution_count": 48,
     "metadata": {},
     "output_type": "execute_result"
    },
    {
     "data": {
      "image/png": "[encoded data removed]",
      "text/plain": [
       "<Figure size 640x480 with 1 Axes>"
      ]
     },
     "metadata": {},
     "output_type": "display_data"
    }
   ],
   "source": [
    "plt.plot(history[:, 0], history[:, 1], 'r')"
   ]
  },
  {
   "cell_type": "code",
   "execution_count": 49,
   "metadata": {},
   "outputs": [
    {
     "name": "stdout",
     "output_type": "stream",
     "text": [
      "Parameter containing:\n",
      "tensor([[0.5804]], requires_grad=True) / Parameter containing:\n",
      "tensor([0.1461], requires_grad=True)\n"
     ]
    }
   ],
   "source": [
    "print(f'{net.l1.weight} / {net.l1.bias}')"
   ]
  },
  {
   "cell_type": "code",
   "execution_count": 50,
   "metadata": {},
   "outputs": [
    {
     "data": {
      "text/plain": [
       "[<matplotlib.lines.Line2D at 0x1eebbc273b0>]"
      ]
     },
     "execution_count": 50,
     "metadata": {},
     "output_type": "execute_result"
    },
    {
     "data": {
      "image/png": "[encoded data removed]",
      "text/plain": [
       "<Figure size 640x480 with 1 Axes>"
      ]
     },
     "metadata": {},
     "output_type": "display_data"
    }
   ],
   "source": [
    "plt.scatter(inputs.data.numpy(), labels.data.numpy(), c='r')\n",
    "plt.plot(inputs.data.numpy(), net(inputs).data.numpy(), c='g')\n"
   ]
  },
  {
   "cell_type": "code",
   "execution_count": null,
   "metadata": {},
   "outputs": [],
   "source": []
  }
 ],
 "metadata": {
  "kernelspec": {
   "display_name": "Python 3",
   "language": "python",
   "name": "python3"
  },
  "language_info": {
   "codemirror_mode": {
    "name": "ipython",
    "version": 3
   },
   "file_extension": ".py",
   "mimetype": "text/x-python",
   "name": "python",
   "nbconvert_exporter": "python",
   "pygments_lexer": "ipython3",
   "version": "3.11.6"
  }
 },
 "nbformat": 4,
 "nbformat_minor": 2
}
